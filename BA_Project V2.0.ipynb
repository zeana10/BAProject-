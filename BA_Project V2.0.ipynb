{
 "cells": [
  {
   "cell_type": "markdown",
   "metadata": {
    "extensions": {
     "jupyter_dashboards": {
      "version": 1,
      "views": {
       "grid_default": {
        "col": 0,
        "height": 3,
        "hidden": false,
        "row": 0,
        "width": 12
       },
       "report_default": {}
      }
     }
    }
   },
   "source": [
    "# Forecasting the Neighborhood Change and Detecting Gentrification with Yelp Data"
   ]
  },
  {
   "cell_type": "markdown",
   "metadata": {
    "extensions": {
     "jupyter_dashboards": {
      "version": 1,
      "views": {
       "grid_default": {
        "col": 0,
        "height": 3,
        "hidden": false,
        "row": 3,
        "width": 12
       },
       "report_default": {}
      }
     }
    }
   },
   "source": [
    "**Data Source**\n",
    "<br>\n",
    "Rent data - median studio price by zipcode *downloaded from zillow \n",
    "<br>\n",
    "Yelp data - Yelp API"
   ]
  },
  {
   "cell_type": "markdown",
   "metadata": {
    "extensions": {
     "jupyter_dashboards": {
      "version": 1,
      "views": {
       "grid_default": {
        "col": 0,
        "height": 2,
        "hidden": false,
        "row": 6,
        "width": 12
       },
       "report_default": {}
      }
     }
    }
   },
   "source": [
    "## Visualising the changes in NYC neighborhoods \n",
    "#### - from 2011/11 to 2018/08 - "
   ]
  },
  {
   "cell_type": "code",
   "execution_count": 43,
   "metadata": {
    "extensions": {
     "jupyter_dashboards": {
      "version": 1,
      "views": {
       "grid_default": {
        "col": 0,
        "height": 2,
        "hidden": true,
        "row": 31,
        "width": 5
       },
       "report_default": {
        "hidden": true
       }
      }
     }
    }
   },
   "outputs": [],
   "source": [
    "# importing all the necessary libraries\n",
    "import pandas as pd\n",
    "import numpy as np\n",
    "import matplotlib.pyplot as plt\n",
    "import warnings\n",
    "import math\n",
    "# from pyproj import Proj, transform\n",
    "# from sklearn.preprocessing import normalize\n",
    "# from sklearn.model_selection import train_test_split\n",
    "# import sklearn.linear_model as linreg\n",
    "# from sklearn.metrics import accuracy_score\n",
    "# import seaborn as sns\n",
    "# import datetime\n",
    "# import ast\n",
    "# import statsmodels.formula.api as smf\n",
    "# from sklearn.linear_model import Lasso, Ridge\n",
    "# from scipy import stats\n",
    "# from bokeh.layouts import column, row, widgetbox\n",
    "# from bokeh.models import CustomJS, Slider, Toggle\n",
    "# from bokeh.models import ColumnDataSource, HoverTool, LogColorMapper, LogTicker, ColorBar\n",
    "# from bokeh.plotting import figure, show, output_file, ColumnDataSource\n",
    "# from bokeh.io import push_notebook, output_notebook\n",
    "# from ipywidgets import *\n",
    "# import ipywidgets as widgets\n",
    "# from shapely.geometry import Point, Polygon,MultiPoint, MultiPolygon\n",
    "warnings.filterwarnings(\"ignore\")\n",
    "# %matplotlib inline"
   ]
  },
  {
   "cell_type": "code",
   "execution_count": null,
   "metadata": {},
   "outputs": [],
   "source": [
    "!pip install Fiona==1.6.0\n",
    "!pip install geopandas"
   ]
  },
  {
   "cell_type": "code",
   "execution_count": 25,
   "metadata": {},
   "outputs": [
    {
     "name": "stdout",
     "output_type": "stream",
     "text": [
      "Collecting pip\n",
      "  Downloading https://files.pythonhosted.org/packages/f9/fb/863012b13912709c13cf5cfdbfb304fa6c727659d6290438e1a88df9d848/pip-19.1-py2.py3-none-any.whl (1.4MB)\n",
      "Installing collected packages: pip\n",
      "  Found existing installation: pip 18.1\n",
      "    Uninstalling pip-18.1:\n",
      "      Successfully uninstalled pip-18.1\n",
      "Successfully installed pip-19.1\n"
     ]
    }
   ],
   "source": [
    "import geopandas as gpd\n",
    "# !python -m pip install --upgrade pip"
   ]
  },
  {
   "cell_type": "code",
   "execution_count": 8,
   "metadata": {
    "extensions": {
     "jupyter_dashboards": {
      "version": 1,
      "views": {
       "grid_default": {
        "hidden": true
       },
       "report_default": {}
      }
     }
    }
   },
   "outputs": [
    {
     "ename": "FileNotFoundError",
     "evalue": "File b'C:/Users/Ayushee/Dropbox/Columbia/Spring 2019/Business Analytics/Group Project/gentrification_yelp-master/gentrification_yelp-master/ny_rent_studio.csv' does not exist",
     "output_type": "error",
     "traceback": [
      "\u001b[1;31m---------------------------------------------------------------------------\u001b[0m",
      "\u001b[1;31mFileNotFoundError\u001b[0m                         Traceback (most recent call last)",
      "\u001b[1;32m<ipython-input-8-5b201309573d>\u001b[0m in \u001b[0;36m<module>\u001b[1;34m\u001b[0m\n\u001b[0;32m      1\u001b[0m \u001b[1;31m# calculate statistics\u001b[0m\u001b[1;33m\u001b[0m\u001b[1;33m\u001b[0m\u001b[1;33m\u001b[0m\u001b[0m\n\u001b[1;32m----> 2\u001b[1;33m \u001b[0mny_rent_studio\u001b[0m \u001b[1;33m=\u001b[0m \u001b[0mpd\u001b[0m\u001b[1;33m.\u001b[0m\u001b[0mread_csv\u001b[0m\u001b[1;33m(\u001b[0m\u001b[1;34m'C:/Users/Ayushee/Dropbox/Columbia/Spring 2019/Business Analytics/Group Project/gentrification_yelp-master/gentrification_yelp-master/ny_rent_studio.csv'\u001b[0m\u001b[1;33m,\u001b[0m \u001b[0mindex_col\u001b[0m \u001b[1;33m=\u001b[0m \u001b[1;36m0\u001b[0m\u001b[1;33m)\u001b[0m  \u001b[1;31m# import csv\u001b[0m\u001b[1;33m\u001b[0m\u001b[1;33m\u001b[0m\u001b[0m\n\u001b[0m\u001b[0;32m      3\u001b[0m \u001b[0mmean_rent\u001b[0m \u001b[1;33m=\u001b[0m \u001b[0mny_rent_studio\u001b[0m\u001b[1;33m[\u001b[0m\u001b[1;34m'%_increase'\u001b[0m\u001b[1;33m]\u001b[0m\u001b[1;33m.\u001b[0m\u001b[0mmean\u001b[0m\u001b[1;33m(\u001b[0m\u001b[1;33m)\u001b[0m \u001b[1;31m# find the mean % increase of rent in NYC area\u001b[0m\u001b[1;33m\u001b[0m\u001b[1;33m\u001b[0m\u001b[0m\n\u001b[0;32m      4\u001b[0m \u001b[1;31m# print('''Average rent increase in Manhattan, Queens, Brooklyn, and Bronx from Nov. 2011 to Aug. 2018 is {:.2f}%'''.format(mean_rent))\u001b[0m\u001b[1;33m\u001b[0m\u001b[1;33m\u001b[0m\u001b[1;33m\u001b[0m\u001b[0m\n\u001b[0;32m      5\u001b[0m \u001b[1;33m\u001b[0m\u001b[0m\n",
      "\u001b[1;32m~\\Anaconda3\\lib\\site-packages\\pandas\\io\\parsers.py\u001b[0m in \u001b[0;36mparser_f\u001b[1;34m(filepath_or_buffer, sep, delimiter, header, names, index_col, usecols, squeeze, prefix, mangle_dupe_cols, dtype, engine, converters, true_values, false_values, skipinitialspace, skiprows, nrows, na_values, keep_default_na, na_filter, verbose, skip_blank_lines, parse_dates, infer_datetime_format, keep_date_col, date_parser, dayfirst, iterator, chunksize, compression, thousands, decimal, lineterminator, quotechar, quoting, escapechar, comment, encoding, dialect, tupleize_cols, error_bad_lines, warn_bad_lines, skipfooter, doublequote, delim_whitespace, low_memory, memory_map, float_precision)\u001b[0m\n\u001b[0;32m    676\u001b[0m                     skip_blank_lines=skip_blank_lines)\n\u001b[0;32m    677\u001b[0m \u001b[1;33m\u001b[0m\u001b[0m\n\u001b[1;32m--> 678\u001b[1;33m         \u001b[1;32mreturn\u001b[0m \u001b[0m_read\u001b[0m\u001b[1;33m(\u001b[0m\u001b[0mfilepath_or_buffer\u001b[0m\u001b[1;33m,\u001b[0m \u001b[0mkwds\u001b[0m\u001b[1;33m)\u001b[0m\u001b[1;33m\u001b[0m\u001b[1;33m\u001b[0m\u001b[0m\n\u001b[0m\u001b[0;32m    679\u001b[0m \u001b[1;33m\u001b[0m\u001b[0m\n\u001b[0;32m    680\u001b[0m     \u001b[0mparser_f\u001b[0m\u001b[1;33m.\u001b[0m\u001b[0m__name__\u001b[0m \u001b[1;33m=\u001b[0m \u001b[0mname\u001b[0m\u001b[1;33m\u001b[0m\u001b[1;33m\u001b[0m\u001b[0m\n",
      "\u001b[1;32m~\\Anaconda3\\lib\\site-packages\\pandas\\io\\parsers.py\u001b[0m in \u001b[0;36m_read\u001b[1;34m(filepath_or_buffer, kwds)\u001b[0m\n\u001b[0;32m    438\u001b[0m \u001b[1;33m\u001b[0m\u001b[0m\n\u001b[0;32m    439\u001b[0m     \u001b[1;31m# Create the parser.\u001b[0m\u001b[1;33m\u001b[0m\u001b[1;33m\u001b[0m\u001b[1;33m\u001b[0m\u001b[0m\n\u001b[1;32m--> 440\u001b[1;33m     \u001b[0mparser\u001b[0m \u001b[1;33m=\u001b[0m \u001b[0mTextFileReader\u001b[0m\u001b[1;33m(\u001b[0m\u001b[0mfilepath_or_buffer\u001b[0m\u001b[1;33m,\u001b[0m \u001b[1;33m**\u001b[0m\u001b[0mkwds\u001b[0m\u001b[1;33m)\u001b[0m\u001b[1;33m\u001b[0m\u001b[1;33m\u001b[0m\u001b[0m\n\u001b[0m\u001b[0;32m    441\u001b[0m \u001b[1;33m\u001b[0m\u001b[0m\n\u001b[0;32m    442\u001b[0m     \u001b[1;32mif\u001b[0m \u001b[0mchunksize\u001b[0m \u001b[1;32mor\u001b[0m \u001b[0miterator\u001b[0m\u001b[1;33m:\u001b[0m\u001b[1;33m\u001b[0m\u001b[1;33m\u001b[0m\u001b[0m\n",
      "\u001b[1;32m~\\Anaconda3\\lib\\site-packages\\pandas\\io\\parsers.py\u001b[0m in \u001b[0;36m__init__\u001b[1;34m(self, f, engine, **kwds)\u001b[0m\n\u001b[0;32m    785\u001b[0m             \u001b[0mself\u001b[0m\u001b[1;33m.\u001b[0m\u001b[0moptions\u001b[0m\u001b[1;33m[\u001b[0m\u001b[1;34m'has_index_names'\u001b[0m\u001b[1;33m]\u001b[0m \u001b[1;33m=\u001b[0m \u001b[0mkwds\u001b[0m\u001b[1;33m[\u001b[0m\u001b[1;34m'has_index_names'\u001b[0m\u001b[1;33m]\u001b[0m\u001b[1;33m\u001b[0m\u001b[1;33m\u001b[0m\u001b[0m\n\u001b[0;32m    786\u001b[0m \u001b[1;33m\u001b[0m\u001b[0m\n\u001b[1;32m--> 787\u001b[1;33m         \u001b[0mself\u001b[0m\u001b[1;33m.\u001b[0m\u001b[0m_make_engine\u001b[0m\u001b[1;33m(\u001b[0m\u001b[0mself\u001b[0m\u001b[1;33m.\u001b[0m\u001b[0mengine\u001b[0m\u001b[1;33m)\u001b[0m\u001b[1;33m\u001b[0m\u001b[1;33m\u001b[0m\u001b[0m\n\u001b[0m\u001b[0;32m    788\u001b[0m \u001b[1;33m\u001b[0m\u001b[0m\n\u001b[0;32m    789\u001b[0m     \u001b[1;32mdef\u001b[0m \u001b[0mclose\u001b[0m\u001b[1;33m(\u001b[0m\u001b[0mself\u001b[0m\u001b[1;33m)\u001b[0m\u001b[1;33m:\u001b[0m\u001b[1;33m\u001b[0m\u001b[1;33m\u001b[0m\u001b[0m\n",
      "\u001b[1;32m~\\Anaconda3\\lib\\site-packages\\pandas\\io\\parsers.py\u001b[0m in \u001b[0;36m_make_engine\u001b[1;34m(self, engine)\u001b[0m\n\u001b[0;32m   1012\u001b[0m     \u001b[1;32mdef\u001b[0m \u001b[0m_make_engine\u001b[0m\u001b[1;33m(\u001b[0m\u001b[0mself\u001b[0m\u001b[1;33m,\u001b[0m \u001b[0mengine\u001b[0m\u001b[1;33m=\u001b[0m\u001b[1;34m'c'\u001b[0m\u001b[1;33m)\u001b[0m\u001b[1;33m:\u001b[0m\u001b[1;33m\u001b[0m\u001b[1;33m\u001b[0m\u001b[0m\n\u001b[0;32m   1013\u001b[0m         \u001b[1;32mif\u001b[0m \u001b[0mengine\u001b[0m \u001b[1;33m==\u001b[0m \u001b[1;34m'c'\u001b[0m\u001b[1;33m:\u001b[0m\u001b[1;33m\u001b[0m\u001b[1;33m\u001b[0m\u001b[0m\n\u001b[1;32m-> 1014\u001b[1;33m             \u001b[0mself\u001b[0m\u001b[1;33m.\u001b[0m\u001b[0m_engine\u001b[0m \u001b[1;33m=\u001b[0m \u001b[0mCParserWrapper\u001b[0m\u001b[1;33m(\u001b[0m\u001b[0mself\u001b[0m\u001b[1;33m.\u001b[0m\u001b[0mf\u001b[0m\u001b[1;33m,\u001b[0m \u001b[1;33m**\u001b[0m\u001b[0mself\u001b[0m\u001b[1;33m.\u001b[0m\u001b[0moptions\u001b[0m\u001b[1;33m)\u001b[0m\u001b[1;33m\u001b[0m\u001b[1;33m\u001b[0m\u001b[0m\n\u001b[0m\u001b[0;32m   1015\u001b[0m         \u001b[1;32melse\u001b[0m\u001b[1;33m:\u001b[0m\u001b[1;33m\u001b[0m\u001b[1;33m\u001b[0m\u001b[0m\n\u001b[0;32m   1016\u001b[0m             \u001b[1;32mif\u001b[0m \u001b[0mengine\u001b[0m \u001b[1;33m==\u001b[0m \u001b[1;34m'python'\u001b[0m\u001b[1;33m:\u001b[0m\u001b[1;33m\u001b[0m\u001b[1;33m\u001b[0m\u001b[0m\n",
      "\u001b[1;32m~\\Anaconda3\\lib\\site-packages\\pandas\\io\\parsers.py\u001b[0m in \u001b[0;36m__init__\u001b[1;34m(self, src, **kwds)\u001b[0m\n\u001b[0;32m   1706\u001b[0m         \u001b[0mkwds\u001b[0m\u001b[1;33m[\u001b[0m\u001b[1;34m'usecols'\u001b[0m\u001b[1;33m]\u001b[0m \u001b[1;33m=\u001b[0m \u001b[0mself\u001b[0m\u001b[1;33m.\u001b[0m\u001b[0musecols\u001b[0m\u001b[1;33m\u001b[0m\u001b[1;33m\u001b[0m\u001b[0m\n\u001b[0;32m   1707\u001b[0m \u001b[1;33m\u001b[0m\u001b[0m\n\u001b[1;32m-> 1708\u001b[1;33m         \u001b[0mself\u001b[0m\u001b[1;33m.\u001b[0m\u001b[0m_reader\u001b[0m \u001b[1;33m=\u001b[0m \u001b[0mparsers\u001b[0m\u001b[1;33m.\u001b[0m\u001b[0mTextReader\u001b[0m\u001b[1;33m(\u001b[0m\u001b[0msrc\u001b[0m\u001b[1;33m,\u001b[0m \u001b[1;33m**\u001b[0m\u001b[0mkwds\u001b[0m\u001b[1;33m)\u001b[0m\u001b[1;33m\u001b[0m\u001b[1;33m\u001b[0m\u001b[0m\n\u001b[0m\u001b[0;32m   1709\u001b[0m \u001b[1;33m\u001b[0m\u001b[0m\n\u001b[0;32m   1710\u001b[0m         \u001b[0mpassed_names\u001b[0m \u001b[1;33m=\u001b[0m \u001b[0mself\u001b[0m\u001b[1;33m.\u001b[0m\u001b[0mnames\u001b[0m \u001b[1;32mis\u001b[0m \u001b[1;32mNone\u001b[0m\u001b[1;33m\u001b[0m\u001b[1;33m\u001b[0m\u001b[0m\n",
      "\u001b[1;32mpandas\\_libs\\parsers.pyx\u001b[0m in \u001b[0;36mpandas._libs.parsers.TextReader.__cinit__\u001b[1;34m()\u001b[0m\n",
      "\u001b[1;32mpandas\\_libs\\parsers.pyx\u001b[0m in \u001b[0;36mpandas._libs.parsers.TextReader._setup_parser_source\u001b[1;34m()\u001b[0m\n",
      "\u001b[1;31mFileNotFoundError\u001b[0m: File b'C:/Users/Ayushee/Dropbox/Columbia/Spring 2019/Business Analytics/Group Project/gentrification_yelp-master/gentrification_yelp-master/ny_rent_studio.csv' does not exist"
     ]
    }
   ],
   "source": [
    "# calculate statistics\n",
    "ny_rent_studio = pd.read_csv('C:/Users/Ayushee/Dropbox/Columbia/Spring 2019/Business Analytics/Group Project/gentrification_yelp-master/gentrification_yelp-master/ny_rent_studio.csv', index_col = 0)  # import csv\n",
    "mean_rent = ny_rent_studio['%_increase'].mean() # find the mean % increase of rent in NYC area\n",
    "# print('''Average rent increase in Manhattan, Queens, Brooklyn, and Bronx from Nov. 2011 to Aug. 2018 is {:.2f}%'''.format(mean_rent))\n",
    "\n",
    "## find out how many % of NYC neighborhoods have experienced above mean rent increase\n",
    "# print(len(ny_rent_studio[ny_rent_studio['%_increase']>mean_rent])/len(ny_rent_studio[~ny_rent_studio['%_increase'].isnull()]))\n",
    "# len(ny_rent_studio[ny_rent_studio['%_increase']<mean_rent])/len(ny_rent_studio[~ny_rent_studio['%_increase'].isnull()])"
   ]
  },
  {
   "cell_type": "markdown",
   "metadata": {
    "extensions": {
     "jupyter_dashboards": {
      "version": 1,
      "views": {
       "grid_default": {
        "col": 7,
        "height": 6,
        "hidden": false,
        "row": 25,
        "width": 5
       },
       "report_default": {}
      }
     }
    }
   },
   "source": [
    "- Median studio rent in Manhattan, Queens, Brooklyn, and Bronx has increased by **21.04%** in average since Nov. 2011 to Aug. 2018 \n",
    "<br>\n",
    "- Roughly **38.71%** of NYC neighborhood (zipcode level) have experienced above mean ( > 21.04%) rent increase"
   ]
  },
  {
   "cell_type": "code",
   "execution_count": 14,
   "metadata": {
    "extensions": {
     "jupyter_dashboards": {
      "version": 1,
      "views": {
       "grid_default": {
        "hidden": true
       },
       "report_default": {}
      }
     }
    }
   },
   "outputs": [
    {
     "ename": "NameError",
     "evalue": "name 'gpd' is not defined",
     "output_type": "error",
     "traceback": [
      "\u001b[1;31m---------------------------------------------------------------------------\u001b[0m",
      "\u001b[1;31mNameError\u001b[0m                                 Traceback (most recent call last)",
      "\u001b[1;32m<ipython-input-14-8fecac01fe15>\u001b[0m in \u001b[0;36m<module>\u001b[1;34m()\u001b[0m\n\u001b[0;32m      1\u001b[0m \u001b[1;31m# import csv files for mapping\u001b[0m\u001b[1;33m\u001b[0m\u001b[1;33m\u001b[0m\u001b[0m\n\u001b[0;32m      2\u001b[0m \u001b[1;31m# ny_qn_bk_studio_df = pd.read_csv('C:/Users/Ayushee/Dropbox/Columbia/Spring 2019/Business Analytics/Group Project/gentrification_yelp-master/gentrification_yelp-master/csv/EDA/ny_qn_bk_studio_df_bokeh.csv.icloud', index_col = 0)\u001b[0m\u001b[1;33m\u001b[0m\u001b[1;33m\u001b[0m\u001b[0m\n\u001b[1;32m----> 3\u001b[1;33m \u001b[0mshape_fiona\u001b[0m \u001b[1;33m=\u001b[0m \u001b[0mgpd\u001b[0m\u001b[1;33m.\u001b[0m\u001b[0mread_file\u001b[0m\u001b[1;33m(\u001b[0m\u001b[1;34m'new.shp'\u001b[0m\u001b[1;33m)\u001b[0m \u001b[1;31m# shape file\u001b[0m\u001b[1;33m\u001b[0m\u001b[0m\n\u001b[0m\u001b[0;32m      4\u001b[0m \u001b[1;31m# clean up the files\u001b[0m\u001b[1;33m\u001b[0m\u001b[1;33m\u001b[0m\u001b[0m\n\u001b[0;32m      5\u001b[0m \u001b[0mshape_fiona_for_plot\u001b[0m \u001b[1;33m=\u001b[0m \u001b[0mshape_fiona\u001b[0m\u001b[1;33m[\u001b[0m\u001b[1;33m[\u001b[0m\u001b[1;34m'ZIPCODE'\u001b[0m\u001b[1;33m,\u001b[0m \u001b[1;34m'geometry'\u001b[0m\u001b[1;33m]\u001b[0m\u001b[1;33m]\u001b[0m\u001b[1;33m\u001b[0m\u001b[0m\n",
      "\u001b[1;31mNameError\u001b[0m: name 'gpd' is not defined"
     ]
    }
   ],
   "source": [
    "# import csv files for mapping\n",
    "# ny_qn_bk_studio_df = pd.read_csv('C:/Users/Ayushee/Dropbox/Columbia/Spring 2019/Business Analytics/Group Project/gentrification_yelp-master/gentrification_yelp-master/csv/EDA/ny_qn_bk_studio_df_bokeh.csv.icloud', index_col = 0)\n",
    "shape_fiona = gpd.read_file('new.shp') # shape file\n",
    "# clean up the files\n",
    "shape_fiona_for_plot = shape_fiona[['ZIPCODE', 'geometry']]\n",
    "shape_fiona_for_plot.columns =  ['RegionName', 'geometry']\n",
    "shape_fiona_for_plot.RegionName = shape_fiona_for_plot.RegionName.astype('int')"
   ]
  },
  {
   "cell_type": "code",
   "execution_count": 10,
   "metadata": {
    "extensions": {
     "jupyter_dashboards": {
      "version": 1,
      "views": {
       "grid_default": {
        "hidden": true
       },
       "report_default": {}
      }
     }
    }
   },
   "outputs": [],
   "source": [
    "# create list of lists for mapping (x = latitude, y = longitude)\n",
    "district_zipcode = shape_fiona_for_plot.RegionName\n",
    "district_x = [ [list(shape_fiona_for_plot.geometry[i].exterior.coords)[j][0]\n",
    "              for j in range(0,len(list(shape_fiona_for_plot.geometry[i].exterior.coords)))]\n",
    "              for i in range(0,len(shape_fiona_for_plot))]\n",
    "district_y = [ [list(shape_fiona_for_plot.geometry[i].exterior.coords)[j][1]\n",
    "                for j in range(0,len(list(shape_fiona_for_plot.geometry[i].exterior.coords)))]\n",
    "              for i in range(0,len(shape_fiona_for_plot))]\n",
    "\n",
    "# create rent dictionary for mapping (will be used to update the color of polygons)\n",
    "year = ny_qn_bk_studio_df.columns[7:89]\n",
    "rent_list = [ny_qn_bk_studio_df[year_] for year_ in year]\n",
    "rent_dict = dict(zip(year,rent_list))\n",
    "data = dict(x=district_x, y=district_y, name=district_zipcode,\n",
    "            rate=rent_list[0], **rent_dict)\n",
    "source = ColumnDataSource(data)"
   ]
  },
  {
   "cell_type": "code",
   "execution_count": 12,
   "metadata": {
    "extensions": {
     "jupyter_dashboards": {
      "version": 1,
      "views": {
       "grid_default": {
        "col": 0,
        "height": 23,
        "hidden": false,
        "row": 8,
        "width": 7
       },
       "report_default": {}
      }
     }
    }
   },
   "outputs": [
    {
     "data": {
      "text/html": [
       "\n",
       "    <div class=\"bk-root\">\n",
       "        <a href=\"https://bokeh.pydata.org\" target=\"_blank\" class=\"bk-logo bk-logo-small bk-logo-notebook\"></a>\n",
       "        <span id=\"3ea47b19-b8a2-41c4-8687-88f03487b09f\">Loading BokehJS ...</span>\n",
       "    </div>"
      ]
     },
     "metadata": {},
     "output_type": "display_data"
    },
    {
     "data": {
      "application/javascript": [
       "\n",
       "(function(root) {\n",
       "  function now() {\n",
       "    return new Date();\n",
       "  }\n",
       "\n",
       "  var force = true;\n",
       "\n",
       "  if (typeof (root._bokeh_onload_callbacks) === \"undefined\" || force === true) {\n",
       "    root._bokeh_onload_callbacks = [];\n",
       "    root._bokeh_is_loading = undefined;\n",
       "  }\n",
       "\n",
       "  var JS_MIME_TYPE = 'application/javascript';\n",
       "  var HTML_MIME_TYPE = 'text/html';\n",
       "  var EXEC_MIME_TYPE = 'application/vnd.bokehjs_exec.v0+json';\n",
       "  var CLASS_NAME = 'output_bokeh rendered_html';\n",
       "\n",
       "  /**\n",
       "   * Render data to the DOM node\n",
       "   */\n",
       "  function render(props, node) {\n",
       "    var script = document.createElement(\"script\");\n",
       "    node.appendChild(script);\n",
       "  }\n",
       "\n",
       "  /**\n",
       "   * Handle when an output is cleared or removed\n",
       "   */\n",
       "  function handleClearOutput(event, handle) {\n",
       "    var cell = handle.cell;\n",
       "\n",
       "    var id = cell.output_area._bokeh_element_id;\n",
       "    var server_id = cell.output_area._bokeh_server_id;\n",
       "    // Clean up Bokeh references\n",
       "    if (id !== undefined) {\n",
       "      Bokeh.index[id].model.document.clear();\n",
       "      delete Bokeh.index[id];\n",
       "    }\n",
       "\n",
       "    if (server_id !== undefined) {\n",
       "      // Clean up Bokeh references\n",
       "      var cmd = \"from bokeh.io.state import curstate; print(curstate().uuid_to_server['\" + server_id + \"'].get_sessions()[0].document.roots[0]._id)\";\n",
       "      cell.notebook.kernel.execute(cmd, {\n",
       "        iopub: {\n",
       "          output: function(msg) {\n",
       "            var element_id = msg.content.text.trim();\n",
       "            Bokeh.index[element_id].model.document.clear();\n",
       "            delete Bokeh.index[element_id];\n",
       "          }\n",
       "        }\n",
       "      });\n",
       "      // Destroy server and session\n",
       "      var cmd = \"import bokeh.io.notebook as ion; ion.destroy_server('\" + server_id + \"')\";\n",
       "      cell.notebook.kernel.execute(cmd);\n",
       "    }\n",
       "  }\n",
       "\n",
       "  /**\n",
       "   * Handle when a new output is added\n",
       "   */\n",
       "  function handleAddOutput(event, handle) {\n",
       "    var output_area = handle.output_area;\n",
       "    var output = handle.output;\n",
       "\n",
       "    // limit handleAddOutput to display_data with EXEC_MIME_TYPE content only\n",
       "    if ((output.output_type != \"display_data\") || (!output.data.hasOwnProperty(EXEC_MIME_TYPE))) {\n",
       "      return\n",
       "    }\n",
       "\n",
       "    var toinsert = output_area.element.find(\".\" + CLASS_NAME.split(' ')[0]);\n",
       "\n",
       "    if (output.metadata[EXEC_MIME_TYPE][\"id\"] !== undefined) {\n",
       "      toinsert[toinsert.length - 1].firstChild.textContent = output.data[JS_MIME_TYPE];\n",
       "      // store reference to embed id on output_area\n",
       "      output_area._bokeh_element_id = output.metadata[EXEC_MIME_TYPE][\"id\"];\n",
       "    }\n",
       "    if (output.metadata[EXEC_MIME_TYPE][\"server_id\"] !== undefined) {\n",
       "      var bk_div = document.createElement(\"div\");\n",
       "      bk_div.innerHTML = output.data[HTML_MIME_TYPE];\n",
       "      var script_attrs = bk_div.children[0].attributes;\n",
       "      for (var i = 0; i < script_attrs.length; i++) {\n",
       "        toinsert[toinsert.length - 1].firstChild.setAttribute(script_attrs[i].name, script_attrs[i].value);\n",
       "      }\n",
       "      // store reference to server id on output_area\n",
       "      output_area._bokeh_server_id = output.metadata[EXEC_MIME_TYPE][\"server_id\"];\n",
       "    }\n",
       "  }\n",
       "\n",
       "  function register_renderer(events, OutputArea) {\n",
       "\n",
       "    function append_mime(data, metadata, element) {\n",
       "      // create a DOM node to render to\n",
       "      var toinsert = this.create_output_subarea(\n",
       "        metadata,\n",
       "        CLASS_NAME,\n",
       "        EXEC_MIME_TYPE\n",
       "      );\n",
       "      this.keyboard_manager.register_events(toinsert);\n",
       "      // Render to node\n",
       "      var props = {data: data, metadata: metadata[EXEC_MIME_TYPE]};\n",
       "      render(props, toinsert[toinsert.length - 1]);\n",
       "      element.append(toinsert);\n",
       "      return toinsert\n",
       "    }\n",
       "\n",
       "    /* Handle when an output is cleared or removed */\n",
       "    events.on('clear_output.CodeCell', handleClearOutput);\n",
       "    events.on('delete.Cell', handleClearOutput);\n",
       "\n",
       "    /* Handle when a new output is added */\n",
       "    events.on('output_added.OutputArea', handleAddOutput);\n",
       "\n",
       "    /**\n",
       "     * Register the mime type and append_mime function with output_area\n",
       "     */\n",
       "    OutputArea.prototype.register_mime_type(EXEC_MIME_TYPE, append_mime, {\n",
       "      /* Is output safe? */\n",
       "      safe: true,\n",
       "      /* Index of renderer in `output_area.display_order` */\n",
       "      index: 0\n",
       "    });\n",
       "  }\n",
       "\n",
       "  // register the mime type if in Jupyter Notebook environment and previously unregistered\n",
       "  if (root.Jupyter !== undefined) {\n",
       "    var events = require('base/js/events');\n",
       "    var OutputArea = require('notebook/js/outputarea').OutputArea;\n",
       "\n",
       "    if (OutputArea.prototype.mime_types().indexOf(EXEC_MIME_TYPE) == -1) {\n",
       "      register_renderer(events, OutputArea);\n",
       "    }\n",
       "  }\n",
       "\n",
       "  \n",
       "  if (typeof (root._bokeh_timeout) === \"undefined\" || force === true) {\n",
       "    root._bokeh_timeout = Date.now() + 5000;\n",
       "    root._bokeh_failed_load = false;\n",
       "  }\n",
       "\n",
       "  var NB_LOAD_WARNING = {'data': {'text/html':\n",
       "     \"<div style='background-color: #fdd'>\\n\"+\n",
       "     \"<p>\\n\"+\n",
       "     \"BokehJS does not appear to have successfully loaded. If loading BokehJS from CDN, this \\n\"+\n",
       "     \"may be due to a slow or bad network connection. Possible fixes:\\n\"+\n",
       "     \"</p>\\n\"+\n",
       "     \"<ul>\\n\"+\n",
       "     \"<li>re-rerun `output_notebook()` to attempt to load from CDN again, or</li>\\n\"+\n",
       "     \"<li>use INLINE resources instead, as so:</li>\\n\"+\n",
       "     \"</ul>\\n\"+\n",
       "     \"<code>\\n\"+\n",
       "     \"from bokeh.resources import INLINE\\n\"+\n",
       "     \"output_notebook(resources=INLINE)\\n\"+\n",
       "     \"</code>\\n\"+\n",
       "     \"</div>\"}};\n",
       "\n",
       "  function display_loaded() {\n",
       "    var el = document.getElementById(\"3ea47b19-b8a2-41c4-8687-88f03487b09f\");\n",
       "    if (el != null) {\n",
       "      el.textContent = \"BokehJS is loading...\";\n",
       "    }\n",
       "    if (root.Bokeh !== undefined) {\n",
       "      if (el != null) {\n",
       "        el.textContent = \"BokehJS \" + root.Bokeh.version + \" successfully loaded.\";\n",
       "      }\n",
       "    } else if (Date.now() < root._bokeh_timeout) {\n",
       "      setTimeout(display_loaded, 100)\n",
       "    }\n",
       "  }\n",
       "\n",
       "\n",
       "  function run_callbacks() {\n",
       "    try {\n",
       "      root._bokeh_onload_callbacks.forEach(function(callback) { callback() });\n",
       "    }\n",
       "    finally {\n",
       "      delete root._bokeh_onload_callbacks\n",
       "    }\n",
       "    console.info(\"Bokeh: all callbacks have finished\");\n",
       "  }\n",
       "\n",
       "  function load_libs(js_urls, callback) {\n",
       "    root._bokeh_onload_callbacks.push(callback);\n",
       "    if (root._bokeh_is_loading > 0) {\n",
       "      console.log(\"Bokeh: BokehJS is being loaded, scheduling callback at\", now());\n",
       "      return null;\n",
       "    }\n",
       "    if (js_urls == null || js_urls.length === 0) {\n",
       "      run_callbacks();\n",
       "      return null;\n",
       "    }\n",
       "    console.log(\"Bokeh: BokehJS not loaded, scheduling load and callback at\", now());\n",
       "    root._bokeh_is_loading = js_urls.length;\n",
       "    for (var i = 0; i < js_urls.length; i++) {\n",
       "      var url = js_urls[i];\n",
       "      var s = document.createElement('script');\n",
       "      s.src = url;\n",
       "      s.async = false;\n",
       "      s.onreadystatechange = s.onload = function() {\n",
       "        root._bokeh_is_loading--;\n",
       "        if (root._bokeh_is_loading === 0) {\n",
       "          console.log(\"Bokeh: all BokehJS libraries loaded\");\n",
       "          run_callbacks()\n",
       "        }\n",
       "      };\n",
       "      s.onerror = function() {\n",
       "        console.warn(\"failed to load library \" + url);\n",
       "      };\n",
       "      console.log(\"Bokeh: injecting script tag for BokehJS library: \", url);\n",
       "      document.getElementsByTagName(\"head\")[0].appendChild(s);\n",
       "    }\n",
       "  };var element = document.getElementById(\"3ea47b19-b8a2-41c4-8687-88f03487b09f\");\n",
       "  if (element == null) {\n",
       "    console.log(\"Bokeh: ERROR: autoload.js configured with elementid '3ea47b19-b8a2-41c4-8687-88f03487b09f' but no matching script tag was found. \")\n",
       "    return false;\n",
       "  }\n",
       "\n",
       "  var js_urls = [\"https://cdn.pydata.org/bokeh/release/bokeh-0.12.16.min.js\", \"https://cdn.pydata.org/bokeh/release/bokeh-widgets-0.12.16.min.js\", \"https://cdn.pydata.org/bokeh/release/bokeh-tables-0.12.16.min.js\", \"https://cdn.pydata.org/bokeh/release/bokeh-gl-0.12.16.min.js\"];\n",
       "\n",
       "  var inline_js = [\n",
       "    function(Bokeh) {\n",
       "      Bokeh.set_log_level(\"info\");\n",
       "    },\n",
       "    \n",
       "    function(Bokeh) {\n",
       "      \n",
       "    },\n",
       "    function(Bokeh) {\n",
       "      console.log(\"Bokeh: injecting CSS: https://cdn.pydata.org/bokeh/release/bokeh-0.12.16.min.css\");\n",
       "      Bokeh.embed.inject_css(\"https://cdn.pydata.org/bokeh/release/bokeh-0.12.16.min.css\");\n",
       "      console.log(\"Bokeh: injecting CSS: https://cdn.pydata.org/bokeh/release/bokeh-widgets-0.12.16.min.css\");\n",
       "      Bokeh.embed.inject_css(\"https://cdn.pydata.org/bokeh/release/bokeh-widgets-0.12.16.min.css\");\n",
       "      console.log(\"Bokeh: injecting CSS: https://cdn.pydata.org/bokeh/release/bokeh-tables-0.12.16.min.css\");\n",
       "      Bokeh.embed.inject_css(\"https://cdn.pydata.org/bokeh/release/bokeh-tables-0.12.16.min.css\");\n",
       "    }\n",
       "  ];\n",
       "\n",
       "  function run_inline_js() {\n",
       "    \n",
       "    if ((root.Bokeh !== undefined) || (force === true)) {\n",
       "      for (var i = 0; i < inline_js.length; i++) {\n",
       "        inline_js[i].call(root, root.Bokeh);\n",
       "      }if (force === true) {\n",
       "        display_loaded();\n",
       "      }} else if (Date.now() < root._bokeh_timeout) {\n",
       "      setTimeout(run_inline_js, 100);\n",
       "    } else if (!root._bokeh_failed_load) {\n",
       "      console.log(\"Bokeh: BokehJS failed to load within specified timeout.\");\n",
       "      root._bokeh_failed_load = true;\n",
       "    } else if (force !== true) {\n",
       "      var cell = $(document.getElementById(\"3ea47b19-b8a2-41c4-8687-88f03487b09f\")).parents('.cell').data().cell;\n",
       "      cell.output_area.append_execute_result(NB_LOAD_WARNING)\n",
       "    }\n",
       "\n",
       "  }\n",
       "\n",
       "  if (root._bokeh_is_loading === 0) {\n",
       "    console.log(\"Bokeh: BokehJS loaded, going straight to plotting\");\n",
       "    run_inline_js();\n",
       "  } else {\n",
       "    load_libs(js_urls, function() {\n",
       "      console.log(\"Bokeh: BokehJS plotting callback run at\", now());\n",
       "      run_inline_js();\n",
       "    });\n",
       "  }\n",
       "}(window));"
      ],
      "application/vnd.bokehjs_load.v0+json": "\n(function(root) {\n  function now() {\n    return new Date();\n  }\n\n  var force = true;\n\n  if (typeof (root._bokeh_onload_callbacks) === \"undefined\" || force === true) {\n    root._bokeh_onload_callbacks = [];\n    root._bokeh_is_loading = undefined;\n  }\n\n  \n\n  \n  if (typeof (root._bokeh_timeout) === \"undefined\" || force === true) {\n    root._bokeh_timeout = Date.now() + 5000;\n    root._bokeh_failed_load = false;\n  }\n\n  var NB_LOAD_WARNING = {'data': {'text/html':\n     \"<div style='background-color: #fdd'>\\n\"+\n     \"<p>\\n\"+\n     \"BokehJS does not appear to have successfully loaded. If loading BokehJS from CDN, this \\n\"+\n     \"may be due to a slow or bad network connection. Possible fixes:\\n\"+\n     \"</p>\\n\"+\n     \"<ul>\\n\"+\n     \"<li>re-rerun `output_notebook()` to attempt to load from CDN again, or</li>\\n\"+\n     \"<li>use INLINE resources instead, as so:</li>\\n\"+\n     \"</ul>\\n\"+\n     \"<code>\\n\"+\n     \"from bokeh.resources import INLINE\\n\"+\n     \"output_notebook(resources=INLINE)\\n\"+\n     \"</code>\\n\"+\n     \"</div>\"}};\n\n  function display_loaded() {\n    var el = document.getElementById(\"3ea47b19-b8a2-41c4-8687-88f03487b09f\");\n    if (el != null) {\n      el.textContent = \"BokehJS is loading...\";\n    }\n    if (root.Bokeh !== undefined) {\n      if (el != null) {\n        el.textContent = \"BokehJS \" + root.Bokeh.version + \" successfully loaded.\";\n      }\n    } else if (Date.now() < root._bokeh_timeout) {\n      setTimeout(display_loaded, 100)\n    }\n  }\n\n\n  function run_callbacks() {\n    try {\n      root._bokeh_onload_callbacks.forEach(function(callback) { callback() });\n    }\n    finally {\n      delete root._bokeh_onload_callbacks\n    }\n    console.info(\"Bokeh: all callbacks have finished\");\n  }\n\n  function load_libs(js_urls, callback) {\n    root._bokeh_onload_callbacks.push(callback);\n    if (root._bokeh_is_loading > 0) {\n      console.log(\"Bokeh: BokehJS is being loaded, scheduling callback at\", now());\n      return null;\n    }\n    if (js_urls == null || js_urls.length === 0) {\n      run_callbacks();\n      return null;\n    }\n    console.log(\"Bokeh: BokehJS not loaded, scheduling load and callback at\", now());\n    root._bokeh_is_loading = js_urls.length;\n    for (var i = 0; i < js_urls.length; i++) {\n      var url = js_urls[i];\n      var s = document.createElement('script');\n      s.src = url;\n      s.async = false;\n      s.onreadystatechange = s.onload = function() {\n        root._bokeh_is_loading--;\n        if (root._bokeh_is_loading === 0) {\n          console.log(\"Bokeh: all BokehJS libraries loaded\");\n          run_callbacks()\n        }\n      };\n      s.onerror = function() {\n        console.warn(\"failed to load library \" + url);\n      };\n      console.log(\"Bokeh: injecting script tag for BokehJS library: \", url);\n      document.getElementsByTagName(\"head\")[0].appendChild(s);\n    }\n  };var element = document.getElementById(\"3ea47b19-b8a2-41c4-8687-88f03487b09f\");\n  if (element == null) {\n    console.log(\"Bokeh: ERROR: autoload.js configured with elementid '3ea47b19-b8a2-41c4-8687-88f03487b09f' but no matching script tag was found. \")\n    return false;\n  }\n\n  var js_urls = [\"https://cdn.pydata.org/bokeh/release/bokeh-0.12.16.min.js\", \"https://cdn.pydata.org/bokeh/release/bokeh-widgets-0.12.16.min.js\", \"https://cdn.pydata.org/bokeh/release/bokeh-tables-0.12.16.min.js\", \"https://cdn.pydata.org/bokeh/release/bokeh-gl-0.12.16.min.js\"];\n\n  var inline_js = [\n    function(Bokeh) {\n      Bokeh.set_log_level(\"info\");\n    },\n    \n    function(Bokeh) {\n      \n    },\n    function(Bokeh) {\n      console.log(\"Bokeh: injecting CSS: https://cdn.pydata.org/bokeh/release/bokeh-0.12.16.min.css\");\n      Bokeh.embed.inject_css(\"https://cdn.pydata.org/bokeh/release/bokeh-0.12.16.min.css\");\n      console.log(\"Bokeh: injecting CSS: https://cdn.pydata.org/bokeh/release/bokeh-widgets-0.12.16.min.css\");\n      Bokeh.embed.inject_css(\"https://cdn.pydata.org/bokeh/release/bokeh-widgets-0.12.16.min.css\");\n      console.log(\"Bokeh: injecting CSS: https://cdn.pydata.org/bokeh/release/bokeh-tables-0.12.16.min.css\");\n      Bokeh.embed.inject_css(\"https://cdn.pydata.org/bokeh/release/bokeh-tables-0.12.16.min.css\");\n    }\n  ];\n\n  function run_inline_js() {\n    \n    if ((root.Bokeh !== undefined) || (force === true)) {\n      for (var i = 0; i < inline_js.length; i++) {\n        inline_js[i].call(root, root.Bokeh);\n      }if (force === true) {\n        display_loaded();\n      }} else if (Date.now() < root._bokeh_timeout) {\n      setTimeout(run_inline_js, 100);\n    } else if (!root._bokeh_failed_load) {\n      console.log(\"Bokeh: BokehJS failed to load within specified timeout.\");\n      root._bokeh_failed_load = true;\n    } else if (force !== true) {\n      var cell = $(document.getElementById(\"3ea47b19-b8a2-41c4-8687-88f03487b09f\")).parents('.cell').data().cell;\n      cell.output_area.append_execute_result(NB_LOAD_WARNING)\n    }\n\n  }\n\n  if (root._bokeh_is_loading === 0) {\n    console.log(\"Bokeh: BokehJS loaded, going straight to plotting\");\n    run_inline_js();\n  } else {\n    load_libs(js_urls, function() {\n      console.log(\"Bokeh: BokehJS plotting callback run at\", now());\n      run_inline_js();\n    });\n  }\n}(window));"
     },
     "metadata": {},
     "output_type": "display_data"
    },
    {
     "data": {
      "application/vnd.jupyter.widget-view+json": {
       "model_id": "d65e2ddf805446599f7e9f2531b429f7",
       "version_major": 2,
       "version_minor": 0
      },
      "text/plain": [
       "interactive(children=(Dropdown(description='year_month', options=('2011-11', '2014-11', '2016-11', '2018-08'),…"
      ]
     },
     "metadata": {},
     "output_type": "display_data"
    },
    {
     "data": {
      "text/plain": [
       "<function __main__.update(year_month)>"
      ]
     },
     "execution_count": 12,
     "metadata": {},
     "output_type": "execute_result"
    }
   ],
   "source": [
    "output_notebook()\n",
    "\n",
    "custom_colors = ['#f2f2f2', '#fee5d9', '#fcbba1', '#fc9272', '#fb6a4a', '#de2d26']\n",
    "color_mapper = LogColorMapper(palette=custom_colors)  \n",
    "\n",
    "TOOLS = \"pan,wheel_zoom,reset,hover,save\"\n",
    "p = figure(\n",
    "    title=\"Median Rental Prices - Studio Apartments\", tools=TOOLS,\n",
    "    x_axis_location=None, y_axis_location=None\n",
    ")\n",
    "p.grid.grid_line_color = None\n",
    "p.patches('x', 'y', source=source,\n",
    "          fill_color={'field': 'rate', 'transform': color_mapper},\n",
    "          fill_alpha=0.8, line_color=\"black\", line_width=0.3)\n",
    "\n",
    "color_bar = ColorBar(color_mapper=color_mapper, ticker=LogTicker(),\n",
    "                     label_standoff=12, border_line_color=None, location=(0,0))\n",
    "\n",
    "p.add_layout(color_bar, 'right')\n",
    "\n",
    "hover = p.select_one(HoverTool)\n",
    "hover.point_policy = \"follow_mouse\"\n",
    "hover.tooltips = [(\"zipcode\", \"@name\"),(\"rent ($)\", \"@rate\"),(\"(Long, Lat)\", \"($x, $y)\")]\n",
    "# show(p, notebook_handle = True)\n",
    "\n",
    "# w = widgets.SelectionSlider(options=year,value=year[0],disabled=False,continuous_update=False,\n",
    "#                                                orientation='horizontal',readout=True)\n",
    "def update(year_month):\n",
    "    source.data['rate'] = source.data[year_month]\n",
    "    show(p, notebook_handle=True)\n",
    "    push_notebook()\n",
    "    \n",
    "interact(update, year_month = ['2011-11','2014-11','2016-11', '2018-08'])"
   ]
  },
  {
   "cell_type": "code",
   "execution_count": 16,
   "metadata": {
    "extensions": {
     "jupyter_dashboards": {
      "version": 1,
      "views": {
       "grid_default": {
        "col": 7,
        "height": 13,
        "hidden": true,
        "row": 131,
        "width": 5
       },
       "report_default": {}
      }
     }
    }
   },
   "outputs": [],
   "source": [
    "# list top 11 neighborhoods with the fastest rent increase\n",
    "sorted_rent_increase = ny_rent_studio.sort_values(['%_increase'], ascending = False)\n",
    "sorted_rent_increase_top_10 = sorted_rent_increase.loc[:10]\n",
    "region_name_top_10 = sorted_rent_increase_top_10.loc[:,'RegionName':'CountyName']\n",
    "increase_top_10 = sorted_rent_increase_top_10.loc[:,'2018-08':'%_increase']\n",
    "sorted_rent_top_10 = pd.concat([region_name_top_10, increase_top_10], axis = 1)\n",
    "sorted_rent_top_10 = sorted_rent_top_10.reset_index(drop = True)\n",
    "sorted_rent_top_10 = sorted_rent_top_10.loc[:10]\n",
    "sorted_rent_top_10['neighborhood'] = ['Flushing', 'Forest Hills', 'Bushwick', 'Rego Park', 'Elmhurst','Midtown East', 'Upper West Side', 'Meatpacking', 'Battery Park', 'City Hall', 'Williamsburg']\n",
    "sorted_rent_top_10 = sorted_rent_top_10.drop(['City', 'Metro', 'State'], axis = 1)\n",
    "sorted_rent_top_10.columns = ['zipcode', 'Borough','Rent 2018/08', '%_increase since 2011/11', 'neighborhood']\n",
    "sorted_rent_top_10[\"%_increase since 2011/11\"] = sorted_rent_top_10[\"%_increase since 2011/11\"].round(2)\n",
    "sorted_rent_top_10 = sorted_rent_top_10.replace('New York', \"Manhattan\")\n",
    "sorted_rent_top_10 = sorted_rent_top_10.replace('Kings', \"Brooklyn\")\n",
    "sorted_rent_top_10 = sorted_rent_top_10.drop(['zipcode'], axis = 1)\n",
    "\n",
    "# list bottom 11 neighborhoods with the fastest rent increase\n",
    "sorted_rent_increase_asc = ny_rent_studio.sort_values(['%_increase'], ascending = True)\n",
    "sorted_rent_increase_asc = sorted_rent_increase_asc.reset_index(drop = True)\n",
    "sorted_rent_increase_asc_top_10 = sorted_rent_increase_asc.loc[:10]\n",
    "region_name_bottom_10 = sorted_rent_increase_asc_top_10.loc[:,'RegionName':'CountyName']\n",
    "increase_bottom_10 = sorted_rent_increase_asc_top_10.loc[:,'2018-08':'%_increase']\n",
    "sorted_rent_bottom_10 = pd.concat([region_name_bottom_10, increase_bottom_10], axis = 1)\n",
    "sorted_rent_bottom_10['neighborhood'] = ['Midtown West', 'Upper East Side', 'East Harlem', 'East Village', 'Yorkville','Lenox Hill', 'Yorkville', 'Upper West Side', 'Murray Hill','Upper West Side','Yorkville'  ]\n",
    "sorted_rent_bottom_10 = sorted_rent_bottom_10.drop(['City', 'Metro', 'State'], axis = 1)\n",
    "sorted_rent_bottom_10.columns = ['zipcode', 'Borough','Rent 2018/08', '%_increase since 2011/11', 'neighborhood']\n",
    "sorted_rent_bottom_10[\"%_increase since 2011/11\"] = sorted_rent_bottom_10[\"%_increase since 2011/11\"].round(2)\n",
    "sorted_rent_bottom_10 = sorted_rent_bottom_10.replace('New York', \"Manhattan\")\n",
    "sorted_rent_bottom_10 = sorted_rent_bottom_10.drop(['zipcode'], axis = 1)"
   ]
  },
  {
   "cell_type": "code",
   "execution_count": 14,
   "metadata": {
    "extensions": {
     "jupyter_dashboards": {
      "version": 1,
      "views": {
       "grid_default": {
        "col": 7,
        "height": 15,
        "hidden": false,
        "row": 10,
        "width": 5
       },
       "report_default": {}
      }
     }
    }
   },
   "outputs": [
    {
     "data": {
      "application/vnd.jupyter.widget-view+json": {
       "model_id": "526ec45789cf4b6db48fcd8310cfc9df",
       "version_major": 2,
       "version_minor": 0
      },
      "text/plain": [
       "interactive(children=(Dropdown(description='select', layout=Layout(width='450px'), options=('Neighborhoods wit…"
      ]
     },
     "metadata": {},
     "output_type": "display_data"
    }
   ],
   "source": [
    "def update_df(select = 'Neighborhoods with the Fastest Rent Increase'):\n",
    "    if select == 'Neighborhoods with the Fastest Rent Increase':\n",
    "        display(sorted_rent_top_10)\n",
    "    if select == 'Neighborhoods with the Slowest Rent Increase':\n",
    "        display(sorted_rent_bottom_10)\n",
    "        \n",
    "int_widget = interactive(update_df, select= ['Neighborhoods with the Fastest Rent Increase','Neighborhoods with the Slowest Rent Increase'])\n",
    "int_widget.children[0].layout = Layout(width='450px')\n",
    "display(int_widget)"
   ]
  },
  {
   "cell_type": "code",
   "execution_count": 115,
   "metadata": {
    "extensions": {
     "jupyter_dashboards": {
      "version": 1,
      "views": {
       "grid_default": {
        "hidden": true
       },
       "report_default": {}
      }
     }
    }
   },
   "outputs": [],
   "source": [
    "yelp_williamsburg_one_hot_cumsum = pd.read_csv('csv/EDA/yelp_williamsburg_one_hot_cumsum.csv', index_col = 0)\n",
    "yelp_bushwick_one_hot_cumsum = pd.read_csv('csv/EDA/yelp_bushwick_one_hot_cumsum.csv', index_col = 0)\n",
    "yelp_east_harlem_one_hot_cumsum = pd.read_csv('csv/EDA/yelp_east_harlem_one_hot_cumsum.csv', index_col = 0)\n",
    "yelp_chelsea_clinton_one_hot_cumsum = pd.read_csv('csv/EDA/yelp_chelsea_clinton_one_hot_cumsum.csv', index_col = 0)\n",
    "\n",
    "yelp_cumsum_rent_williamsburg_df = pd.read_csv('csv/yelp_cumsum_rent_williamsburg.csv', index_col = ['Unnamed: 0'])\n",
    "yelp_cumsum_rent_williamsburg_df.index = pd.to_datetime(yelp_cumsum_rent_williamsburg_df.index)\n",
    "yelp_cumsum_rent_east_harlem_df = pd.read_csv('csv/yelp_cumsum_rent_east_harlem.csv', index_col = ['Unnamed: 0'])\n",
    "yelp_cumsum_rent_east_harlem_df.index = pd.to_datetime(yelp_cumsum_rent_east_harlem_df.index)\n",
    "yelp_cumsum_rent_bushwick_df = pd.read_csv('csv/yelp_cumsum_rent_bushwick.csv', index_col = ['Unnamed: 0'])\n",
    "yelp_cumsum_rent_bushwick_df.index = pd.to_datetime(yelp_cumsum_rent_bushwick_df.index)"
   ]
  },
  {
   "cell_type": "markdown",
   "metadata": {
    "extensions": {
     "jupyter_dashboards": {
      "version": 1,
      "views": {
       "grid_default": {
        "col": 0,
        "height": 2,
        "hidden": false,
        "row": 127,
        "width": 12
       },
       "report_default": {}
      }
     }
    }
   },
   "source": [
    "## Detecting Gentrification using Machine Learning Algorithms"
   ]
  },
  {
   "cell_type": "markdown",
   "metadata": {
    "extensions": {
     "jupyter_dashboards": {
      "version": 1,
      "views": {
       "grid_default": {
        "col": 0,
        "height": 8,
        "hidden": false,
        "row": 129,
        "width": 12
       },
       "report_default": {}
      }
     }
    }
   },
   "source": [
    "#### We've only looked at Williamsburg, and Bushwick, but can we generalize it to the whole NYC area?\n",
    "- use machine learning algorithm to detect if the area is:<br>\n",
    "    - **Gentrifying**: the area that was low-income in 1990 and experienced rent growth above the median SBA rent growth between 1990 and 2010-2014<br>\n",
    "    - **Non-gentrifying**: the areas that started off as low-income in 1990 but experienced more modest growth<br>\n",
    "    - **Higher-income**: the areas that had higher incomes in 1990.\n",
    "\n",
    "- for this, some of yelp data are combined with demographic data from 2016 Census\n",
    "\n",
    "*Source: http://furmancenter.org/files/sotc/Part_1_Gentrification_SOCin2015_9JUNE2016.pdf*\n",
    "  \n"
   ]
  },
  {
   "cell_type": "code",
   "execution_count": 9,
   "metadata": {
    "extensions": {
     "jupyter_dashboards": {
      "version": 1,
      "views": {
       "grid_default": {
        "hidden": true
       },
       "report_default": {}
      }
     }
    }
   },
   "outputs": [],
   "source": [
    "from sklearn.model_selection import train_test_split, GridSearchCV\n",
    "# from imblearn.over_sampling import SMOTE\n",
    "from sklearn.tree import DecisionTreeClassifier\n",
    "from sklearn.ensemble import RandomForestClassifier, GradientBoostingClassifier, AdaBoostClassifier\n",
    "from sklearn.metrics import confusion_matrix\n",
    "from sklearn.model_selection import cross_val_score\n",
    "from textwrap import wrap"
   ]
  },
  {
   "cell_type": "code",
   "execution_count": 10,
   "metadata": {},
   "outputs": [],
   "source": [
    "import pandas as pd"
   ]
  },
  {
   "cell_type": "code",
   "execution_count": 12,
   "metadata": {
    "extensions": {
     "jupyter_dashboards": {
      "version": 1,
      "views": {
       "grid_default": {
        "hidden": true
       },
       "report_default": {}
      }
     }
    }
   },
   "outputs": [],
   "source": [
    "zipcode_neighborhood_df_test_exc_income = pd.read_csv('zipcode_neighborhood_df_test_exc_income.csv', index_col = 0)"
   ]
  },
  {
   "cell_type": "code",
   "execution_count": 13,
   "metadata": {},
   "outputs": [
    {
     "data": {
      "text/plain": [
       "0.2484076433121019"
      ]
     },
     "execution_count": 13,
     "metadata": {},
     "output_type": "execute_result"
    }
   ],
   "source": [
    "# len(zipcode_neighborhood_df_test_exc_income['gentrification_label']==0)\n",
    "# zipcode_neighborhood_df_test_exc_income[zipcode_neighborhood_df_test_exc_income['zipcodes']==10002]\n",
    "## 0 - high income\n",
    "## 2 - getrifying\n",
    "sum(zipcode_neighborhood_df_test_exc_income['gentrification_label']==0)/157 ##107 high income. 68%\n",
    "sum(zipcode_neighborhood_df_test_exc_income['gentrification_label']==1)/157 ##107 high income. 7%\n",
    "sum(zipcode_neighborhood_df_test_exc_income['gentrification_label']==2)/157 ##107 high income. 25%"
   ]
  },
  {
   "cell_type": "code",
   "execution_count": 16,
   "metadata": {
    "extensions": {
     "jupyter_dashboards": {
      "version": 1,
      "views": {
       "grid_default": {
        "hidden": true
       },
       "report_default": {}
      }
     }
    }
   },
   "outputs": [
    {
     "data": {
      "text/html": [
       "<div>\n",
       "<style scoped>\n",
       "    .dataframe tbody tr th:only-of-type {\n",
       "        vertical-align: middle;\n",
       "    }\n",
       "\n",
       "    .dataframe tbody tr th {\n",
       "        vertical-align: top;\n",
       "    }\n",
       "\n",
       "    .dataframe thead th {\n",
       "        text-align: right;\n",
       "    }\n",
       "</style>\n",
       "<table border=\"1\" class=\"dataframe\">\n",
       "  <thead>\n",
       "    <tr style=\"text-align: right;\">\n",
       "      <th></th>\n",
       "      <th>avg_rating</th>\n",
       "      <th>avg_price</th>\n",
       "      <th>starbucks_count</th>\n",
       "      <th>bars</th>\n",
       "      <th>%, Less than 9th grade</th>\n",
       "      <th>%, 9th to 12th grade, no diploma</th>\n",
       "      <th>% High school graduate (includes equivalency)</th>\n",
       "      <th>% Some college, no degree</th>\n",
       "      <th>% A Associate's degree</th>\n",
       "      <th>% Bachelor's degree</th>\n",
       "      <th>% Graduate or professional degree</th>\n",
       "      <th>% high school graduate or higher</th>\n",
       "      <th>% bachelor's degree or higher</th>\n",
       "      <th>% White</th>\n",
       "      <th>% African American</th>\n",
       "      <th>% American Indian and Alaska Native</th>\n",
       "      <th>% Asian</th>\n",
       "      <th>% Native Hawaiian and Other Pacific Islander</th>\n",
       "      <th>% Some other race</th>\n",
       "      <th>cafe_count</th>\n",
       "    </tr>\n",
       "  </thead>\n",
       "  <tbody>\n",
       "    <tr>\n",
       "      <th>0</th>\n",
       "      <td>3.412022</td>\n",
       "      <td>1.446834</td>\n",
       "      <td>0.0</td>\n",
       "      <td>0.0</td>\n",
       "      <td>17.2</td>\n",
       "      <td>16.3</td>\n",
       "      <td>29.0</td>\n",
       "      <td>16.7</td>\n",
       "      <td>7.5</td>\n",
       "      <td>10.1</td>\n",
       "      <td>3.2</td>\n",
       "      <td>66.6</td>\n",
       "      <td>13.2</td>\n",
       "      <td>10.4</td>\n",
       "      <td>32.0</td>\n",
       "      <td>0.8</td>\n",
       "      <td>1.5</td>\n",
       "      <td>0.1</td>\n",
       "      <td>52.8</td>\n",
       "      <td>3.0</td>\n",
       "    </tr>\n",
       "    <tr>\n",
       "      <th>1</th>\n",
       "      <td>3.175676</td>\n",
       "      <td>1.231801</td>\n",
       "      <td>0.0</td>\n",
       "      <td>0.0</td>\n",
       "      <td>18.7</td>\n",
       "      <td>18.6</td>\n",
       "      <td>26.2</td>\n",
       "      <td>18.1</td>\n",
       "      <td>5.6</td>\n",
       "      <td>8.4</td>\n",
       "      <td>4.4</td>\n",
       "      <td>62.7</td>\n",
       "      <td>12.8</td>\n",
       "      <td>11.6</td>\n",
       "      <td>34.5</td>\n",
       "      <td>0.4</td>\n",
       "      <td>1.3</td>\n",
       "      <td>0.1</td>\n",
       "      <td>48.8</td>\n",
       "      <td>2.0</td>\n",
       "    </tr>\n",
       "    <tr>\n",
       "      <th>2</th>\n",
       "      <td>3.477435</td>\n",
       "      <td>1.406593</td>\n",
       "      <td>0.0</td>\n",
       "      <td>0.0</td>\n",
       "      <td>18.2</td>\n",
       "      <td>20.5</td>\n",
       "      <td>25.8</td>\n",
       "      <td>17.8</td>\n",
       "      <td>5.6</td>\n",
       "      <td>9.5</td>\n",
       "      <td>2.6</td>\n",
       "      <td>61.3</td>\n",
       "      <td>12.1</td>\n",
       "      <td>13.4</td>\n",
       "      <td>28.5</td>\n",
       "      <td>0.2</td>\n",
       "      <td>1.6</td>\n",
       "      <td>0.0</td>\n",
       "      <td>53.6</td>\n",
       "      <td>1.0</td>\n",
       "    </tr>\n",
       "    <tr>\n",
       "      <th>3</th>\n",
       "      <td>3.774120</td>\n",
       "      <td>1.461673</td>\n",
       "      <td>2.0</td>\n",
       "      <td>3.0</td>\n",
       "      <td>16.2</td>\n",
       "      <td>15.5</td>\n",
       "      <td>29.4</td>\n",
       "      <td>18.4</td>\n",
       "      <td>6.6</td>\n",
       "      <td>9.9</td>\n",
       "      <td>4.1</td>\n",
       "      <td>68.3</td>\n",
       "      <td>13.9</td>\n",
       "      <td>19.3</td>\n",
       "      <td>20.5</td>\n",
       "      <td>0.4</td>\n",
       "      <td>3.1</td>\n",
       "      <td>0.1</td>\n",
       "      <td>52.2</td>\n",
       "      <td>15.0</td>\n",
       "    </tr>\n",
       "    <tr>\n",
       "      <th>4</th>\n",
       "      <td>3.546569</td>\n",
       "      <td>1.274436</td>\n",
       "      <td>0.0</td>\n",
       "      <td>1.0</td>\n",
       "      <td>14.0</td>\n",
       "      <td>14.0</td>\n",
       "      <td>29.1</td>\n",
       "      <td>17.0</td>\n",
       "      <td>6.8</td>\n",
       "      <td>12.9</td>\n",
       "      <td>6.0</td>\n",
       "      <td>72.0</td>\n",
       "      <td>19.0</td>\n",
       "      <td>20.0</td>\n",
       "      <td>35.7</td>\n",
       "      <td>0.7</td>\n",
       "      <td>6.3</td>\n",
       "      <td>0.0</td>\n",
       "      <td>33.3</td>\n",
       "      <td>8.0</td>\n",
       "    </tr>\n",
       "  </tbody>\n",
       "</table>\n",
       "</div>"
      ],
      "text/plain": [
       "   avg_rating  avg_price  starbucks_count  bars  %, Less than 9th grade  \\\n",
       "0    3.412022   1.446834              0.0   0.0                    17.2   \n",
       "1    3.175676   1.231801              0.0   0.0                    18.7   \n",
       "2    3.477435   1.406593              0.0   0.0                    18.2   \n",
       "3    3.774120   1.461673              2.0   3.0                    16.2   \n",
       "4    3.546569   1.274436              0.0   1.0                    14.0   \n",
       "\n",
       "   %, 9th to 12th grade, no diploma  \\\n",
       "0                              16.3   \n",
       "1                              18.6   \n",
       "2                              20.5   \n",
       "3                              15.5   \n",
       "4                              14.0   \n",
       "\n",
       "   % High school graduate (includes equivalency)  % Some college, no degree  \\\n",
       "0                                           29.0                       16.7   \n",
       "1                                           26.2                       18.1   \n",
       "2                                           25.8                       17.8   \n",
       "3                                           29.4                       18.4   \n",
       "4                                           29.1                       17.0   \n",
       "\n",
       "   % A Associate's degree  % Bachelor's degree  \\\n",
       "0                     7.5                 10.1   \n",
       "1                     5.6                  8.4   \n",
       "2                     5.6                  9.5   \n",
       "3                     6.6                  9.9   \n",
       "4                     6.8                 12.9   \n",
       "\n",
       "   % Graduate or professional degree  % high school graduate or higher  \\\n",
       "0                                3.2                              66.6   \n",
       "1                                4.4                              62.7   \n",
       "2                                2.6                              61.3   \n",
       "3                                4.1                              68.3   \n",
       "4                                6.0                              72.0   \n",
       "\n",
       "   % bachelor's degree or higher  % White  % African American  \\\n",
       "0                           13.2     10.4                32.0   \n",
       "1                           12.8     11.6                34.5   \n",
       "2                           12.1     13.4                28.5   \n",
       "3                           13.9     19.3                20.5   \n",
       "4                           19.0     20.0                35.7   \n",
       "\n",
       "   % American Indian and Alaska Native  % Asian  \\\n",
       "0                                  0.8      1.5   \n",
       "1                                  0.4      1.3   \n",
       "2                                  0.2      1.6   \n",
       "3                                  0.4      3.1   \n",
       "4                                  0.7      6.3   \n",
       "\n",
       "   % Native Hawaiian and Other Pacific Islander  % Some other race  cafe_count  \n",
       "0                                           0.1               52.8         3.0  \n",
       "1                                           0.1               48.8         2.0  \n",
       "2                                           0.0               53.6         1.0  \n",
       "3                                           0.1               52.2        15.0  \n",
       "4                                           0.0               33.3         8.0  "
      ]
     },
     "execution_count": 16,
     "metadata": {},
     "output_type": "execute_result"
    }
   ],
   "source": [
    "X = zipcode_neighborhood_df_test_exc_income.loc[:,'avg_rating':]\n",
    "target = zipcode_neighborhood_df_test_exc_income['gentrification_label']\n",
    "X = X.replace('-', 0)\n",
    "X.head()"
   ]
  },
  {
   "cell_type": "code",
   "execution_count": 452,
   "metadata": {
    "extensions": {
     "jupyter_dashboards": {
      "version": 1,
      "views": {
       "grid_default": {
        "hidden": true
       },
       "report_default": {}
      }
     }
    }
   },
   "outputs": [],
   "source": [
    "# # correct the class imbalance\n",
    "# print(target.value_counts())\n",
    "# X_resampled, y_resampled = SMOTE().fit_sample(X, target) \n",
    "# print(pd.Series(y_resampled).value_counts()) #Preview synthetic sample class distribution"
   ]
  },
  {
   "cell_type": "markdown",
   "metadata": {
    "extensions": {
     "jupyter_dashboards": {
      "version": 1,
      "views": {
       "grid_default": {
        "col": 0,
        "height": 2,
        "hidden": false,
        "row": 140,
        "width": 12
       },
       "report_default": {}
      }
     }
    }
   },
   "source": [
    "#### Random Forest Classifier"
   ]
  },
  {
   "cell_type": "code",
   "execution_count": 17,
   "metadata": {
    "extensions": {
     "jupyter_dashboards": {
      "version": 1,
      "views": {
       "grid_default": {
        "col": 0,
        "height": 19,
        "hidden": false,
        "row": 142,
        "width": 8
       },
       "report_default": {}
      }
     }
    }
   },
   "outputs": [
    {
     "name": "stdout",
     "output_type": "stream",
     "text": [
      "\n",
      " Top 10 Features:\n",
      "('% Asian', 0.0916)\n",
      "(\"% bachelor's degree or higher\", 0.0817)\n",
      "('bars', 0.07)\n",
      "(\"% Bachelor's degree\", 0.0666)\n",
      "('% high school graduate or higher', 0.0649)\n",
      "('%, Less than 9th grade', 0.0642)\n",
      "('% Some other race', 0.0642)\n",
      "('% Graduate or professional degree', 0.063)\n",
      "('% High school graduate (includes equivalency)', 0.0601)\n",
      "('% White', 0.06)\n",
      "Accuracy: 77.78 (+/- 10.39)\n"
     ]
    }
   ],
   "source": [
    "%matplotlib inline\n",
    "data_train, data_test, target_train, target_test = train_test_split(X, target)\n",
    "forest= RandomForestClassifier(n_estimators= 40, max_depth= 5)\n",
    "forest.fit(data_train, target_train)\n",
    "feature_importances = forest.feature_importances_\n",
    "feature_importance_list = [round(value, 4) for value in feature_importances]\n",
    "\n",
    "# def plot_feature_importances(model, data):\n",
    "#     n_features = data.shape[1]\n",
    "#     plt.figure(figsize=(15,4))\n",
    "# #     labels = [ '\\n'.join(wrap(l, 35)) for l in data.columns] \n",
    "#     plt.bar(range(n_features)[:60], model.feature_importances_[:60], align='center') \n",
    "#     plt.xticks(np.arange(n_features)[:60], data.columns, rotation = 30, ha = 'right') \n",
    "#     plt.xlabel(\"Feature importance\")\n",
    "#     plt.ylabel(\"Feature\")\n",
    "\n",
    "# plot_feature_importances(forest, X)\n",
    "\n",
    "# print('Train Set Score: {:0.2f}%'.format(forest.score(data_train,target_train) * 100))\n",
    "# print('test set score: {:0.2f}%'.format(forest.score(data_test, target_test)*100))\n",
    "\n",
    "\n",
    "feature_importance = dict(zip(X.columns, feature_importance_list))\n",
    "print('\\n', 'Top 10 Features:')\n",
    "sorted_dict = sorted(feature_importance.items(), key=lambda x: x[1], reverse=True)\n",
    "for item in sorted_dict[:10]:\n",
    "    print(item)\n",
    "kfold_scores_forest = cross_val_score(forest, X, target, cv=5)\n",
    "print(\"Accuracy: %0.2f (+/- %0.2f)\" % (kfold_scores_forest.mean()*100, kfold_scores_forest.std() * 2*100))"
   ]
  },
  {
   "cell_type": "markdown",
   "metadata": {
    "extensions": {
     "jupyter_dashboards": {
      "version": 1,
      "views": {
       "grid_default": {
        "col": 0,
        "height": 3,
        "hidden": false,
        "row": 137,
        "width": 12
       },
       "report_default": {}
      }
     }
    }
   },
   "source": [
    "|                       | Random Forest      | Gradient Boosting |  AdaBoost         |\n",
    "|-----------------------|:-------------------|:------------------|:-----------------:|\n",
    "|Accuracy Score (k-fold)|90.71 (+/- 12.46)   |82.66% (+/- 9.31%) |78.85% (+/- 16.16%)|"
   ]
  },
  {
   "cell_type": "code",
   "execution_count": 18,
   "metadata": {
    "extensions": {
     "jupyter_dashboards": {
      "version": 1,
      "views": {
       "grid_default": {
        "hidden": true
       },
       "report_default": {}
      }
     }
    }
   },
   "outputs": [],
   "source": [
    "from sklearn.preprocessing import label_binarize\n",
    "from itertools import cycle\n",
    "from sklearn import svm, datasets\n",
    "from sklearn.metrics import roc_curve, auc\n",
    "from sklearn.model_selection import train_test_split\n",
    "from sklearn.preprocessing import label_binarize\n",
    "from sklearn.multiclass import OneVsRestClassifier\n",
    "from scipy import interp\n",
    "\n",
    "# # Import some data to play with\n",
    "# iris = datasets.load_iris()\n",
    "# X = iris.data\n",
    "# y = iris.target\n",
    "\n",
    "# Binarize the output\n",
    "y = label_binarize(target, classes=[0, 1, 2])\n",
    "n_classes = y.shape[1]\n",
    "\n",
    "# Add noisy features to make the problem harder\n",
    "# random_state = np.random.RandomState(0)\n",
    "# n_samples, n_features = X.shape\n",
    "# X = np.c_[X, random_state.randn(n_samples, 200 * n_features)]\n",
    "\n",
    "# shuffle and split training and test sets\n",
    "X_train_roc, X_test_roc, y_train_roc, y_test_roc = train_test_split(X, y, test_size=.5,\n",
    "                                                    random_state=0)\n",
    "\n",
    "# Learn to predict each class against the other\n",
    "classifier = OneVsRestClassifier(RandomForestClassifier(n_estimators= 40, max_depth= 5))\n",
    "y_score = classifier.fit(X_train_roc, y_train_roc).predict_proba(X_test_roc)\n",
    "\n",
    "# Compute ROC curve and ROC area for each class\n",
    "fpr = dict()\n",
    "tpr = dict()\n",
    "roc_auc = dict()\n",
    "for i in range(n_classes):\n",
    "    fpr[i], tpr[i], _ = roc_curve(list(y_test_roc[:, i]), y_score[:, i])\n",
    "    roc_auc[i] = auc(fpr[i], tpr[i])\n",
    "\n",
    "# Compute micro-average ROC curve and ROC area\n",
    "fpr[\"micro\"], tpr[\"micro\"], _ = roc_curve(y_test_roc.ravel(), y_score.ravel())\n",
    "roc_auc[\"micro\"] = auc(fpr[\"micro\"], tpr[\"micro\"])"
   ]
  },
  {
   "cell_type": "code",
   "execution_count": 19,
   "metadata": {
    "extensions": {
     "jupyter_dashboards": {
      "version": 1,
      "views": {
       "grid_default": {
        "col": 8,
        "height": 9,
        "hidden": false,
        "row": 142,
        "width": 4
       },
       "report_default": {}
      }
     }
    }
   },
   "outputs": [
    {
     "data": {
      "image/png": "[encoded data removed]",
      "text/plain": [
       "<Figure size 432x288 with 1 Axes>"
      ]
     },
     "metadata": {
      "needs_background": "light"
     },
     "output_type": "display_data"
    }
   ],
   "source": [
    "# Compute macro-average ROC curve and ROC area\n",
    "lw = 2\n",
    "# First aggregate all false positive rates\n",
    "all_fpr = np.unique(np.concatenate([fpr[i] for i in range(n_classes)]))\n",
    "\n",
    "# Then interpolate all ROC curves at this points\n",
    "mean_tpr = np.zeros_like(all_fpr)\n",
    "for i in range(n_classes):\n",
    "    mean_tpr += interp(all_fpr, fpr[i], tpr[i])\n",
    "\n",
    "# Finally average it and compute AUC\n",
    "mean_tpr /= n_classes\n",
    "\n",
    "fpr[\"macro\"] = all_fpr\n",
    "tpr[\"macro\"] = mean_tpr\n",
    "roc_auc[\"macro\"] = auc(fpr[\"macro\"], tpr[\"macro\"])\n",
    "\n",
    "# Plot all ROC curves\n",
    "plt.figure()\n",
    "plt.plot(fpr[\"micro\"], tpr[\"micro\"],\n",
    "         label='micro-average ROC curve (area = {0:0.2f})'\n",
    "               ''.format(roc_auc[\"micro\"]),\n",
    "         color='deeppink', linestyle=':', linewidth=4)\n",
    "\n",
    "plt.plot(fpr[\"macro\"], tpr[\"macro\"],\n",
    "         label='macro-average ROC curve (area = {0:0.2f})'\n",
    "               ''.format(roc_auc[\"macro\"]),\n",
    "         color='navy', linestyle=':', linewidth=4)\n",
    "\n",
    "colors = cycle(['aqua', 'darkorange', 'cornflowerblue'])\n",
    "for i, color in zip(range(n_classes), colors):\n",
    "    plt.plot(fpr[i], tpr[i], color=color, lw=lw,\n",
    "             label='ROC curve of class {0} (area = {1:0.2f})'\n",
    "             ''.format(i, roc_auc[i]))\n",
    "\n",
    "plt.plot([0, 1], [0, 1], 'k--', lw=lw)\n",
    "plt.xlim([0.0, 1.0])\n",
    "plt.ylim([0.0, 1.05])\n",
    "plt.xlabel('False Positive Rate')\n",
    "plt.ylabel('True Positive Rate')\n",
    "plt.title('Receiver operating characteristic to multi-class')\n",
    "plt.legend(loc=\"lower right\")\n",
    "plt.show()"
   ]
  },
  {
   "cell_type": "code",
   "execution_count": 20,
   "metadata": {},
   "outputs": [
    {
     "data": {
      "text/plain": [
       "(78, 20)"
      ]
     },
     "execution_count": 20,
     "metadata": {},
     "output_type": "execute_result"
    }
   ],
   "source": [
    "X_train_roc.shape"
   ]
  },
  {
   "cell_type": "code",
   "execution_count": 21,
   "metadata": {},
   "outputs": [
    {
     "data": {
      "text/plain": [
       "0.775"
      ]
     },
     "execution_count": 21,
     "metadata": {},
     "output_type": "execute_result"
    }
   ],
   "source": [
    "from sklearn.linear_model import LogisticRegression\n",
    "from sklearn.model_selection import StratifiedKFold\n",
    "from sklearn.metrics import confusion_matrix\n",
    "# X_train_roc, X_test_roc, y_train_roc, y_test_roc\n",
    "lrn = LogisticRegression()\n",
    "lrn.fit(data_train, target_train)\n",
    "y_pred = lrn.predict(data_test)\n",
    "np.mean(y_pred==target_test)"
   ]
  },
  {
   "cell_type": "code",
   "execution_count": 62,
   "metadata": {},
   "outputs": [
    {
     "data": {
      "text/plain": [
       "0.675"
      ]
     },
     "execution_count": 62,
     "metadata": {},
     "output_type": "execute_result"
    }
   ],
   "source": [
    "from sklearn.neighbors import KNeighborsClassifier\n",
    "knn = KNeighborsClassifier(n_neighbors=5)\n",
    "knn.fit(data_train, target_train)\n",
    "y_pred = knn.predict(data_test)\n",
    "np.mean(y_pred==target_test)"
   ]
  },
  {
   "cell_type": "code",
   "execution_count": 23,
   "metadata": {},
   "outputs": [
    {
     "data": {
      "text/plain": [
       "0.675"
      ]
     },
     "execution_count": 23,
     "metadata": {},
     "output_type": "execute_result"
    }
   ],
   "source": [
    "from sklearn.tree import DecisionTreeClassifier\n",
    "clf = DecisionTreeClassifier(random_state=0)\n",
    "clf.fit(data_train, target_train)\n",
    "\n",
    "y_pred = clf.predict(data_test)\n",
    "np.mean(y_pred==target_test)"
   ]
  },
  {
   "cell_type": "code",
   "execution_count": 53,
   "metadata": {},
   "outputs": [
    {
     "data": {
      "text/plain": [
       "0.7"
      ]
     },
     "execution_count": 53,
     "metadata": {},
     "output_type": "execute_result"
    }
   ],
   "source": [
    "from sklearn.discriminant_analysis import LinearDiscriminantAnalysis\n",
    "lda = LinearDiscriminantAnalysis()\n",
    "lda.fit(data_train, target_train)\n",
    "\n",
    "y_pred = lda.predict(data_test)\n",
    "np.mean(y_pred==target_test)"
   ]
  },
  {
   "cell_type": "code",
   "execution_count": 50,
   "metadata": {},
   "outputs": [
    {
     "name": "stdout",
     "output_type": "stream",
     "text": [
      "Requirement already satisfied: xgboost in c:\\users\\ayushee\\anaconda3\\lib\\site-packages (0.81)\n",
      "Requirement already satisfied: numpy in c:\\users\\ayushee\\anaconda3\\lib\\site-packages (from xgboost) (1.14.3)\n",
      "Requirement already satisfied: scipy in c:\\users\\ayushee\\anaconda3\\lib\\site-packages (from xgboost) (1.1.0)\n"
     ]
    }
   ],
   "source": [
    "# !pip install xgboost"
   ]
  },
  {
   "cell_type": "code",
   "execution_count": 25,
   "metadata": {},
   "outputs": [
    {
     "data": {
      "text/plain": [
       "0.775"
      ]
     },
     "execution_count": 25,
     "metadata": {},
     "output_type": "execute_result"
    }
   ],
   "source": [
    "import xgboost as xgb\n",
    "gbm= xgb.XGBClassifier(max_depth=10, n_estimators=300, learning_rate=0.01).fit(data_train, target_train)\n",
    "y_pred = gbm.predict(data_test)\n",
    "np.mean(y_pred==target_test)"
   ]
  },
  {
   "cell_type": "markdown",
   "metadata": {},
   "source": [
    "### Ridge, Lasso"
   ]
  },
  {
   "cell_type": "code",
   "execution_count": 91,
   "metadata": {},
   "outputs": [],
   "source": [
    "#Ridge Regression"
   ]
  },
  {
   "cell_type": "code",
   "execution_count": 92,
   "metadata": {},
   "outputs": [],
   "source": [
    "from sklearn.linear_model import Ridge"
   ]
  },
  {
   "cell_type": "code",
   "execution_count": 104,
   "metadata": {},
   "outputs": [
    {
     "data": {
      "text/plain": [
       "0.59954305601013"
      ]
     },
     "execution_count": 104,
     "metadata": {},
     "output_type": "execute_result"
    }
   ],
   "source": [
    "log_ridge = Ridge() # higher the alpha value, more restriction on the coefficients; low alpha > more generalization, coefficients are barely\n",
    "# restricted and in this case linear and ridge regression resembles\n",
    "parameters={'alpha':[1e-15,1e-10,1e-8,1e-4,1e-3,1e-2,1,5,10,20]}\n",
    "a=GridSearchCV(log_ridge, parameters, cv=5)\n",
    "a.fit(data_train, target_train)\n",
    "a.score(data_test, target_test)"
   ]
  },
  {
   "cell_type": "code",
   "execution_count": 37,
   "metadata": {},
   "outputs": [
    {
     "data": {
      "image/png": "[encoded data removed]",
      "text/plain": [
       "<Figure size 432x288 with 1 Axes>"
      ]
     },
     "metadata": {
      "needs_background": "light"
     },
     "output_type": "display_data"
    }
   ],
   "source": [
    "#Logistic with Ridge\n",
    "log_ridge = Ridge(alpha=1) # higher the alpha value, more restriction on the coefficients; low alpha > more generalization, coefficients are barely\n",
    "# restricted and in this case linear and ridge regression resembles\n",
    "log_ridge.fit(data_train, target_train)\n",
    "\n",
    "train_score=lrn.score(data_train, target_train)\n",
    "test_score=lrn.score(data_test, target_test)\n",
    "Ridge_train_score = log_ridge.score(data_train,target_train)\n",
    "Ridge_test_score = log_ridge.score(data_test, target_test)\n",
    "\n",
    "\n",
    "plt.plot(log_ridge.coef_,alpha=1,linestyle='none',marker='*',markersize=5,color='red',label=r'Ridge; $\\alpha = 1$',zorder=7) # zorder for ordering the markers\n",
    "\n",
    "plt.xlabel('Coefficient Index',fontsize=16)\n",
    "plt.ylabel('Coefficient Magnitude',fontsize=16)\n",
    "plt.legend(fontsize=10,loc=4)\n",
    "plt.show()"
   ]
  },
  {
   "cell_type": "code",
   "execution_count": 41,
   "metadata": {},
   "outputs": [
    {
     "name": "stdout",
     "output_type": "stream",
     "text": [
      "0.8717948717948718\n",
      "0.4350792520966862\n",
      "0.775\n",
      "0.5618462244969497\n"
     ]
    }
   ],
   "source": [
    "print(train_score)\n",
    "print(Ridge_train_score)\n",
    "print(test_score)\n",
    "print(Ridge_test_score)"
   ]
  },
  {
   "cell_type": "code",
   "execution_count": 42,
   "metadata": {},
   "outputs": [],
   "source": [
    "from sklearn.linear_model import Lasso"
   ]
  },
  {
   "cell_type": "code",
   "execution_count": 51,
   "metadata": {},
   "outputs": [],
   "source": [
    "log_lasso = Lasso(alpha=0) # higher the alpha value, more restriction on the coefficients; low alpha > more generalization, coefficients are barely\n",
    "# restricted and in this case linear and ridge regression resembles\n",
    "log_lasso.fit(data_train, target_train)\n",
    "\n",
    "train_score=lrn.score(data_train, target_train)\n",
    "test_score=lrn.score(data_test, target_test)\n",
    "Lasso_train_score = log_lasso.score(data_train,target_train)\n",
    "Lasso_test_score = log_lasso.score(data_test, target_test)\n"
   ]
  },
  {
   "cell_type": "code",
   "execution_count": 52,
   "metadata": {},
   "outputs": [
    {
     "name": "stdout",
     "output_type": "stream",
     "text": [
      "0.8717948717948718\n",
      "0.4349561486393148\n",
      "0.775\n",
      "0.5545425956375447\n"
     ]
    }
   ],
   "source": [
    "print(train_score)\n",
    "print(Lasso_train_score)\n",
    "print(test_score)\n",
    "print(Lasso_test_score)"
   ]
  },
  {
   "cell_type": "code",
   "execution_count": 81,
   "metadata": {},
   "outputs": [],
   "source": [
    "import statsmodels.api as sm\n",
    "import statsmodels.formula.api as smf\n",
    "from sklearn import model_selection"
   ]
  },
  {
   "cell_type": "code",
   "execution_count": 76,
   "metadata": {},
   "outputs": [],
   "source": [
    "def model_performance_metrics(model, y_test, y_pred):\n",
    "    cm = confusion_matrix(y_test, y_pred)\n",
    "    if model.classes_[0] == 1:\n",
    "        cm = np.array([[cm[1,1], cm[1,0]], [cm[0,1], cm[0,0]]])\n",
    "\n",
    "    \n",
    "    tp = cm[1,1]\n",
    "    fn = cm[1,0]\n",
    "    fp = cm[0,1]\n",
    "    tn = cm[0,0]\n",
    "    return_values = [cm, \n",
    "                     'Recall (TPR) = {0:.2%}'.format(tp/(tp+fn)),\n",
    "                     'Fallout (FPR) = {0:.2%}'.format(fp/(fp+tn)),\n",
    "                     'Accuracy (Acc) = {0:.2%}'.format((tp+tn)/(tp+tn+fp+fn))]\n",
    "    return return_values"
   ]
  },
  {
   "cell_type": "code",
   "execution_count": 79,
   "metadata": {},
   "outputs": [
    {
     "name": "stderr",
     "output_type": "stream",
     "text": [
      "C:\\Users\\Aman\\Anaconda3\\lib\\site-packages\\sklearn\\linear_model\\logistic.py:758: ConvergenceWarning: lbfgs failed to converge. Increase the number of iterations.\n",
      "  \"of iterations.\", ConvergenceWarning)\n",
      "C:\\Users\\Aman\\Anaconda3\\lib\\site-packages\\sklearn\\linear_model\\logistic.py:758: ConvergenceWarning: lbfgs failed to converge. Increase the number of iterations.\n",
      "  \"of iterations.\", ConvergenceWarning)\n",
      "C:\\Users\\Aman\\Anaconda3\\lib\\site-packages\\sklearn\\linear_model\\logistic.py:758: ConvergenceWarning: lbfgs failed to converge. Increase the number of iterations.\n",
      "  \"of iterations.\", ConvergenceWarning)\n"
     ]
    },
    {
     "data": {
      "text/plain": [
       "[array([[24,  0,  0],\n",
       "        [ 0,  2,  0],\n",
       "        [ 8,  6,  0]], dtype=int64),\n",
       " 'Recall (TPR) = 100.00%',\n",
       " 'Fallout (FPR) = 0.00%',\n",
       " 'Accuracy (Acc) = 100.00%']"
      ]
     },
     "execution_count": 79,
     "metadata": {},
     "output_type": "execute_result"
    }
   ],
   "source": [
    "lrn = LogisticRegression(solver = 'lbfgs')\n",
    "lrn.fit(data_train, target_train)\n",
    "\n",
    "THRESHOLD = 0.4\n",
    "y_pred = np.where(lrn.predict_proba(data_test)[:,1] > THRESHOLD, 1, 0)\n",
    "\n",
    "model_performance_metrics(lrn, target_test, y_pred)"
   ]
  },
  {
   "cell_type": "code",
   "execution_count": 90,
   "metadata": {},
   "outputs": [
    {
     "name": "stdout",
     "output_type": "stream",
     "text": [
      "Accuracy: 67.208% (16.894%)\n"
     ]
    }
   ],
   "source": [
    "#Cross VALIDATION\n",
    "kfold = model_selection.KFold(n_splits=10)\n",
    "lrn = LogisticRegression()\n",
    "lrn.fit(data_train, target_train)\n",
    "\n",
    "results= model_selection.cross_val_score(lrn, X, target, cv=kfold)\n",
    "print(\"Accuracy: %.3f%% (%.3f%%)\"% (results.mean()*100.0, results.std()*100.0))\n",
    "\n",
    "# seed = 7\n",
    "# kfold = model_selection.KFold(n_splits=10, random_state=seed)"
   ]
  },
  {
   "cell_type": "code",
   "execution_count": 75,
   "metadata": {},
   "outputs": [
    {
     "name": "stderr",
     "output_type": "stream",
     "text": [
      "C:\\Users\\Aman\\Anaconda3\\lib\\site-packages\\sklearn\\linear_model\\sag.py:334: ConvergenceWarning: The max_iter was reached which means the coef_ did not converge\n",
      "  \"the coef_ did not converge\", ConvergenceWarning)\n",
      "C:\\Users\\Aman\\Anaconda3\\lib\\site-packages\\sklearn\\linear_model\\sag.py:334: ConvergenceWarning: The max_iter was reached which means the coef_ did not converge\n",
      "  \"the coef_ did not converge\", ConvergenceWarning)\n",
      "C:\\Users\\Aman\\Anaconda3\\lib\\site-packages\\sklearn\\linear_model\\sag.py:334: ConvergenceWarning: The max_iter was reached which means the coef_ did not converge\n",
      "  \"the coef_ did not converge\", ConvergenceWarning)\n"
     ]
    },
    {
     "data": {
      "text/plain": [
       "0.625"
      ]
     },
     "execution_count": 75,
     "metadata": {},
     "output_type": "execute_result"
    }
   ],
   "source": [
    "lrn = LogisticRegression(penalty='l2',solver='sag')\n",
    "lrn.fit(data_train, target_train)\n",
    "\n",
    "THRESHOLD = 0.4\n",
    "y_pred = np.where(lrn.predict_proba(data_test)[:,1] > THRESHOLD, 1, 0)\n",
    "\n",
    "model_performance_metrics(lrn, y_test, y_pred)"
   ]
  },
  {
   "cell_type": "code",
   "execution_count": 74,
   "metadata": {},
   "outputs": [
    {
     "data": {
      "text/plain": [
       "0.65"
      ]
     },
     "execution_count": 74,
     "metadata": {},
     "output_type": "execute_result"
    }
   ],
   "source": [
    "lrn = LogisticRegression(penalty='l2',solver='newton-cg')\n",
    "lrn.fit(data_train, target_train)\n",
    "\n",
    "THRESHOLD = 0.4\n",
    "y_pred = np.where(lrn.predict_proba(data_test)[:,1] > THRESHOLD, 1, 0)\n",
    "\n",
    "model_performance_metrics(lrn, y_test, y_pred)"
   ]
  },
  {
   "cell_type": "code",
   "execution_count": null,
   "metadata": {},
   "outputs": [],
   "source": []
  }
 ],
 "metadata": {
  "extensions": {
   "jupyter_dashboards": {
    "activeView": "grid_default",
    "version": 1,
    "views": {
     "grid_default": {
      "cellMargin": 10,
      "defaultCellHeight": 20,
      "maxColumns": 12,
      "name": "grid",
      "type": "grid"
     },
     "report_default": {
      "name": "report",
      "type": "report"
     }
    }
   }
  },
  "kernelspec": {
   "display_name": "Python 3",
   "language": "python",
   "name": "python3"
  },
  "language_info": {
   "codemirror_mode": {
    "name": "ipython",
    "version": 3
   },
   "file_extension": ".py",
   "mimetype": "text/x-python",
   "name": "python",
   "nbconvert_exporter": "python",
   "pygments_lexer": "ipython3",
   "version": "3.7.1"
  }
 },
 "nbformat": 4,
 "nbformat_minor": 2
}

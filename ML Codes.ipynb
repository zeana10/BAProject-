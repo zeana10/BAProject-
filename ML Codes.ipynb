{
 "cells": [
  {
   "cell_type": "markdown",
   "metadata": {},
   "source": [
    "### Dummy variable creation"
   ]
  },
  {
   "cell_type": "code",
   "execution_count": 7,
   "metadata": {
    "scrolled": true
   },
   "outputs": [],
   "source": [
    "# separate target variable from dataset\n",
    "y = final_data['class']\n",
    "X = final_data.drop('class',axis = 1)"
   ]
  },
  {
   "cell_type": "markdown",
   "metadata": {},
   "source": [
    "#### Creating dummy for X data"
   ]
  },
  {
   "cell_type": "code",
   "execution_count": 9,
   "metadata": {},
   "outputs": [],
   "source": [
    "s = pd.get_dummies(X['s'],drop_first=True)\n",
    "b = pd.get_dummies(X['b'],drop_first=True)\n",
    "t = pd.get_dummies(X['t'],drop_first=True)\n",
    "c = pd.get_dummies(X['c'],drop_first=True)\n",
    "a = pd.get_dummies(X['a'],drop_first=True)"
   ]
  },
  {
   "cell_type": "code",
   "execution_count": 10,
   "metadata": {},
   "outputs": [],
   "source": [
    "X.drop(['s','b','t','c','a']\n",
    "             ,axis=1,inplace=True)"
   ]
  },
  {
   "cell_type": "code",
   "execution_count": null,
   "metadata": {},
   "outputs": [],
   "source": [
    "X = pd.concat([X,s,b,t,c,a],axis=1)"
   ]
  },
  {
   "cell_type": "markdown",
   "metadata": {},
   "source": [
    "### Train Test Split - StratifiedShuffleSplit: Having same proportion on target variable in Train and Test"
   ]
  },
  {
   "cell_type": "code",
   "execution_count": 15,
   "metadata": {},
   "outputs": [
    {
     "name": "stdout",
     "output_type": "stream",
     "text": [
      "0    102721\n",
      "1     10613\n",
      "Name: class, dtype: int64\n",
      "0    34240\n",
      "1     3538\n",
      "Name: class, dtype: int64\n"
     ]
    }
   ],
   "source": [
    "# Stratified Split of train and test data\n",
    "from sklearn.model_selection import StratifiedShuffleSplit\n",
    "sss = StratifiedShuffleSplit(n_splits=5, test_size=0.25, random_state=0)\n",
    "sss = StratifiedShuffleSplit(n_splits=5, test_size=0.25, random_state=0)\n",
    "sss.get_n_splits(X, y)\n",
    "for train_index, test_index in sss.split(X, y):\n",
    "#     print(\"TRAIN:\", train_index, \"TEST:\", test_index)\n",
    "    X_train, X_test = X.iloc[train_index], X.iloc[test_index]\n",
    "    y_train, y_test = y[train_index], y[test_index]\n",
    "print(y_train.value_counts())\n",
    "print(y_test.value_counts())"
   ]
  },
  {
   "cell_type": "markdown",
   "metadata": {},
   "source": [
    "### Functionalize Model Performance Evaluation"
   ]
  },
  {
   "cell_type": "code",
   "execution_count": 16,
   "metadata": {},
   "outputs": [],
   "source": [
    "def model_performance_metrics(model, y_test, y_pred):\n",
    "    cm = confusion_matrix(y_test, y_pred)\n",
    "    if model.classes_[0] == 1:\n",
    "        cm = np.array([[cm[1,1], cm[1,0]], [cm[0,1], cm[0,0]]])\n",
    "\n",
    "    \n",
    "    tp = cm[1,1]\n",
    "    fn = cm[1,0]\n",
    "    fp = cm[0,1]\n",
    "    tn = cm[0,0]\n",
    "    return_values = [cm, \n",
    "                     'Recall (TPR) = {0:.2%}'.format(tp/(tp+fn)),\n",
    "                     'Fallout (FPR) = {0:.2%}'.format(fp/(fp+tn)),\n",
    "                     'Accuracy (Acc) = {0:.2%}'.format((tp+tn)/(tp+tn+fp+fn))]\n",
    "    return return_values"
   ]
  },
  {
   "cell_type": "markdown",
   "metadata": {},
   "source": [
    "### Logistic Model on Above Test-Train Split"
   ]
  },
  {
   "cell_type": "code",
   "execution_count": 17,
   "metadata": {
    "scrolled": true
   },
   "outputs": [
    {
     "name": "stderr",
     "output_type": "stream",
     "text": [
      "/anaconda3/lib/python3.6/site-packages/sklearn/linear_model/logistic.py:433: FutureWarning: Default solver will be changed to 'lbfgs' in 0.22. Specify a solver to silence this warning.\n",
      "  FutureWarning)\n"
     ]
    },
    {
     "data": {
      "text/plain": [
       "[array([[34063,   177],\n",
       "        [ 1651,  1887]]),\n",
       " 'Recall (TPR) = 53.34%',\n",
       " 'Fallout (FPR) = 0.52%',\n",
       " 'Accuracy (Acc) = 95.16%']"
      ]
     },
     "execution_count": 17,
     "metadata": {},
     "output_type": "execute_result"
    }
   ],
   "source": [
    "from sklearn.linear_model import LogisticRegression\n",
    "from sklearn.model_selection import StratifiedKFold\n",
    "from sklearn.metrics import confusion_matrix\n",
    "lrn = LogisticRegression()\n",
    "lrn.fit(X_train, y_train)\n",
    "y_pred = lrn.predict(X_test)\n",
    "\n",
    "model_performance_metrics(lrn, y_test, y_pred)"
   ]
  },
  {
   "cell_type": "markdown",
   "metadata": {},
   "source": [
    "### Over Sampling Fraud class in X_train"
   ]
  },
  {
   "cell_type": "code",
   "execution_count": 18,
   "metadata": {},
   "outputs": [],
   "source": [
    "# !pip install imbalanced-learn"
   ]
  },
  {
   "cell_type": "code",
   "execution_count": 19,
   "metadata": {},
   "outputs": [],
   "source": [
    "import imblearn\n",
    "from imblearn.over_sampling import SMOTE\n",
    "from collections import Counter"
   ]
  },
  {
   "cell_type": "code",
   "execution_count": 20,
   "metadata": {},
   "outputs": [
    {
     "name": "stdout",
     "output_type": "stream",
     "text": [
      "Original dataset shape Counter({0: 102721, 1: 10613})\n",
      "Resampled dataset shape Counter({0: 102721, 1: 102721})\n"
     ]
    }
   ],
   "source": [
    "# SMOTE\n",
    "sampler = SMOTE(ratio={1: 102721, 0: 102721},random_state=0)\n",
    "X_rs, y_rs = sampler.fit_sample(X_train, y_train)\n",
    "print('Original dataset shape %s' % Counter(y_train))\n",
    "print('Resampled dataset shape %s' % Counter(y_rs))"
   ]
  },
  {
   "cell_type": "markdown",
   "metadata": {},
   "source": [
    "### Logistic Model on oversampled X_train"
   ]
  },
  {
   "cell_type": "code",
   "execution_count": 38,
   "metadata": {},
   "outputs": [
    {
     "name": "stderr",
     "output_type": "stream",
     "text": [
      "/anaconda3/lib/python3.6/site-packages/sklearn/linear_model/logistic.py:433: FutureWarning: Default solver will be changed to 'lbfgs' in 0.22. Specify a solver to silence this warning.\n",
      "  FutureWarning)\n"
     ]
    },
    {
     "data": {
      "text/plain": [
       "[array([[31127,  3113],\n",
       "        [ 1122,  2416]]),\n",
       " 'Recall (TPR) = 68.29%',\n",
       " 'Fallout (FPR) = 9.09%',\n",
       " 'Accuracy (Acc) = 88.79%']"
      ]
     },
     "execution_count": 38,
     "metadata": {},
     "output_type": "execute_result"
    }
   ],
   "source": [
    "lrn = LogisticRegression()\n",
    "lrn.fit(X_rs, y_rs)\n",
    "y_pred = lrn.predict(X_test)\n",
    "\n",
    "model_performance_metrics(lrn, y_test, y_pred)"
   ]
  },
  {
   "cell_type": "markdown",
   "metadata": {},
   "source": [
    "### Logistic Model on oversampled X_train with Threshold value set to 0.4"
   ]
  },
  {
   "cell_type": "code",
   "execution_count": 39,
   "metadata": {},
   "outputs": [
    {
     "name": "stderr",
     "output_type": "stream",
     "text": [
      "/anaconda3/lib/python3.6/site-packages/sklearn/linear_model/logistic.py:433: FutureWarning: Default solver will be changed to 'lbfgs' in 0.22. Specify a solver to silence this warning.\n",
      "  FutureWarning)\n"
     ]
    },
    {
     "data": {
      "text/plain": [
       "[array([[28957,  5283],\n",
       "        [  933,  2605]]),\n",
       " 'Recall (TPR) = 73.63%',\n",
       " 'Fallout (FPR) = 15.43%',\n",
       " 'Accuracy (Acc) = 83.55%']"
      ]
     },
     "execution_count": 39,
     "metadata": {},
     "output_type": "execute_result"
    }
   ],
   "source": [
    "lrn = LogisticRegression()\n",
    "lrn.fit(X_rs, y_rs)\n",
    "\n",
    "THRESHOLD = 0.4\n",
    "y_pred = np.where(lrn.predict_proba(X_test)[:,1] > THRESHOLD, 1, 0)\n",
    "\n",
    "model_performance_metrics(lrn, y_test, y_pred)"
   ]
  },
  {
   "cell_type": "markdown",
   "metadata": {},
   "source": [
    "## KNN"
   ]
  },
  {
   "cell_type": "code",
   "execution_count": 21,
   "metadata": {
    "scrolled": true
   },
   "outputs": [
    {
     "data": {
      "text/plain": [
       "[array([[34007,   233],\n",
       "        [ 1640,  1898]]),\n",
       " 'Recall (TPR) = 53.65%',\n",
       " 'Fallout (FPR) = 0.68%',\n",
       " 'Accuracy (Acc) = 95.04%']"
      ]
     },
     "execution_count": 21,
     "metadata": {},
     "output_type": "execute_result"
    }
   ],
   "source": [
    "from sklearn.neighbors import KNeighborsClassifier\n",
    "knn = KNeighborsClassifier(n_neighbors=5)\n",
    "knn.fit(X_train, y_train)\n",
    "y_pred = knn.predict(X_test)\n",
    "model_performance_metrics(knn, y_test, y_pred)"
   ]
  },
  {
   "cell_type": "markdown",
   "metadata": {},
   "source": [
    "### KNN on oversampled X_train"
   ]
  },
  {
   "cell_type": "code",
   "execution_count": 22,
   "metadata": {
    "scrolled": false
   },
   "outputs": [
    {
     "data": {
      "text/plain": [
       "[array([[29341,  4899],\n",
       "        [ 1259,  2279]]),\n",
       " 'Recall (TPR) = 64.41%',\n",
       " 'Fallout (FPR) = 14.31%',\n",
       " 'Accuracy (Acc) = 83.70%']"
      ]
     },
     "execution_count": 22,
     "metadata": {},
     "output_type": "execute_result"
    }
   ],
   "source": [
    "knn = KNeighborsClassifier(n_neighbors=5)\n",
    "knn.fit(X_rs, y_rs)\n",
    "y_pred = knn.predict(X_test)\n",
    "model_performance_metrics(knn, y_test, y_pred)"
   ]
  },
  {
   "cell_type": "markdown",
   "metadata": {},
   "source": [
    "### KNN on oversampled X_train with Threshold value set to 0.4"
   ]
  },
  {
   "cell_type": "code",
   "execution_count": 26,
   "metadata": {},
   "outputs": [
    {
     "data": {
      "text/plain": [
       "[array([[29341,  4899],\n",
       "        [ 1259,  2279]]),\n",
       " 'Recall (TPR) = 64.41%',\n",
       " 'Fallout (FPR) = 14.31%',\n",
       " 'Accuracy (Acc) = 83.70%']"
      ]
     },
     "execution_count": 26,
     "metadata": {},
     "output_type": "execute_result"
    }
   ],
   "source": [
    "knn = KNeighborsClassifier(n_neighbors=5)\n",
    "knn.fit(X_rs, y_rs) #fitting on oversamples X_train\n",
    "\n",
    "THRESHOLD = 0.40\n",
    "y_pred = np.where(knn.predict_proba(X_test)[:,1] > THRESHOLD, 1, 0)\n",
    "\n",
    "model_performance_metrics(knn, y_test, y_pred)"
   ]
  },
  {
   "cell_type": "markdown",
   "metadata": {},
   "source": [
    "## Decision Tree"
   ]
  },
  {
   "cell_type": "code",
   "execution_count": 40,
   "metadata": {
    "scrolled": true
   },
   "outputs": [
    {
     "data": {
      "text/plain": [
       "[array([[33758,   482],\n",
       "        [ 1533,  2005]]),\n",
       " 'Recall (TPR) = 56.67%',\n",
       " 'Fallout (FPR) = 1.41%',\n",
       " 'Accuracy (Acc) = 94.67%']"
      ]
     },
     "execution_count": 40,
     "metadata": {},
     "output_type": "execute_result"
    }
   ],
   "source": [
    "from sklearn.tree import DecisionTreeClassifier\n",
    "clf = DecisionTreeClassifier(random_state=0)\n",
    "clf.fit(X_train, y_train)\n",
    "y_pred = clf.predict(X_test)\n",
    "model_performance_metrics(clf, y_test, y_pred)"
   ]
  },
  {
   "cell_type": "markdown",
   "metadata": {},
   "source": [
    "### Decision Tree on oversampled X_train"
   ]
  },
  {
   "cell_type": "code",
   "execution_count": 41,
   "metadata": {
    "scrolled": true
   },
   "outputs": [
    {
     "data": {
      "text/plain": [
       "[array([[29935,  4305],\n",
       "        [ 1317,  2221]]),\n",
       " 'Recall (TPR) = 62.78%',\n",
       " 'Fallout (FPR) = 12.57%',\n",
       " 'Accuracy (Acc) = 85.12%']"
      ]
     },
     "execution_count": 41,
     "metadata": {},
     "output_type": "execute_result"
    }
   ],
   "source": [
    "clf = DecisionTreeClassifier(random_state=0)\n",
    "clf.fit(X_rs, y_rs) #fitting on oversamples X_train\n",
    "y_pred = clf.predict(X_test)\n",
    "model_performance_metrics(clf, y_test, y_pred)"
   ]
  },
  {
   "cell_type": "markdown",
   "metadata": {},
   "source": [
    "### Decision Tree on oversampled X_train with Threshold value set to 0.4"
   ]
  },
  {
   "cell_type": "code",
   "execution_count": 47,
   "metadata": {},
   "outputs": [
    {
     "data": {
      "text/plain": [
       "[array([[27466,  6774],\n",
       "        [ 1206,  2332]]),\n",
       " 'Recall (TPR) = 65.91%',\n",
       " 'Fallout (FPR) = 19.78%',\n",
       " 'Accuracy (Acc) = 78.88%']"
      ]
     },
     "execution_count": 47,
     "metadata": {},
     "output_type": "execute_result"
    }
   ],
   "source": [
    "clf = DecisionTreeClassifier(random_state=0)\n",
    "clf.fit(X_rs, y_rs) #fitting on oversamples X_train\n",
    "\n",
    "THRESHOLD = 0.40\n",
    "y_pred = np.where(clf.predict_proba(X_test)[:,1] > THRESHOLD, 1, 0)\n",
    "\n",
    "model_performance_metrics(clf, y_test, y_pred)"
   ]
  },
  {
   "cell_type": "markdown",
   "metadata": {},
   "source": [
    "## LDA"
   ]
  },
  {
   "cell_type": "code",
   "execution_count": 59,
   "metadata": {
    "scrolled": true
   },
   "outputs": [
    {
     "data": {
      "text/plain": [
       "[array([[34041,   199],\n",
       "        [ 1650,  1888]]),\n",
       " 'Recall (TPR) = 53.36%',\n",
       " 'Fallout (FPR) = 0.58%',\n",
       " 'Accuracy (Acc) = 95.11%']"
      ]
     },
     "execution_count": 59,
     "metadata": {},
     "output_type": "execute_result"
    }
   ],
   "source": [
    "from sklearn.discriminant_analysis import LinearDiscriminantAnalysis\n",
    "lda = LinearDiscriminantAnalysis()\n",
    "lda.fit(X_train, y_train)\n",
    "\n",
    "y_pred = lda.predict(X_test)\n",
    "model_performance_metrics(lda, y_test, y_pred)"
   ]
  },
  {
   "cell_type": "markdown",
   "metadata": {},
   "source": [
    "### LDA on oversampled X_train"
   ]
  },
  {
   "cell_type": "code",
   "execution_count": 60,
   "metadata": {
    "scrolled": true
   },
   "outputs": [
    {
     "data": {
      "text/plain": [
       "[array([[31807,  2433],\n",
       "        [  993,  2545]]),\n",
       " 'Recall (TPR) = 71.93%',\n",
       " 'Fallout (FPR) = 7.11%',\n",
       " 'Accuracy (Acc) = 90.93%']"
      ]
     },
     "execution_count": 60,
     "metadata": {},
     "output_type": "execute_result"
    }
   ],
   "source": [
    "lda = LinearDiscriminantAnalysis()\n",
    "lda.fit(X_rs, y_rs) #fitting on oversamples X_train\n",
    "\n",
    "y_pred = lda.predict(X_test)\n",
    "model_performance_metrics(lda, y_test, y_pred)"
   ]
  },
  {
   "cell_type": "markdown",
   "metadata": {},
   "source": [
    "### LDA on oversampled X_train with Threshold value set to 0.28"
   ]
  },
  {
   "cell_type": "code",
   "execution_count": 72,
   "metadata": {},
   "outputs": [
    {
     "data": {
      "text/plain": [
       "[array([[28955,  5285],\n",
       "        [  905,  2633]]),\n",
       " 'Recall (TPR) = 74.42%',\n",
       " 'Fallout (FPR) = 15.44%',\n",
       " 'Accuracy (Acc) = 83.61%']"
      ]
     },
     "execution_count": 72,
     "metadata": {},
     "output_type": "execute_result"
    }
   ],
   "source": [
    "lda = LinearDiscriminantAnalysis()\n",
    "lda.fit(X_rs, y_rs) #fitting on oversamples X_train\n",
    "\n",
    "THRESHOLD = 0.28\n",
    "y_pred = np.where(lda.predict_proba(X_test)[:,1] > THRESHOLD, 1, 0)\n",
    "\n",
    "model_performance_metrics(clf, y_test, y_pred)"
   ]
  },
  {
   "cell_type": "markdown",
   "metadata": {},
   "source": [
    "## XGboost"
   ]
  },
  {
   "cell_type": "code",
   "execution_count": 178,
   "metadata": {
    "scrolled": true
   },
   "outputs": [],
   "source": [
    "# !pip install xgboost"
   ]
  },
  {
   "cell_type": "code",
   "execution_count": 176,
   "metadata": {
    "scrolled": true
   },
   "outputs": [
    {
     "data": {
      "text/plain": [
       "[array([[34200,    40],\n",
       "        [ 1654,  1884]]),\n",
       " 'Recall (TPR) = 53.25%',\n",
       " 'Fallout (FPR) = 0.12%',\n",
       " 'Accuracy (Acc) = 95.52%']"
      ]
     },
     "execution_count": 176,
     "metadata": {},
     "output_type": "execute_result"
    }
   ],
   "source": [
    "import xgboost as xgb\n",
    "gbm= xgb.XGBClassifier(max_depth=10, n_estimators=300, learning_rate=0.01).fit(X_train, y_train)\n",
    "\n",
    "y_pred = gbm.predict(X_test)\n",
    "model_performance_metrics(gbm, y_test, y_pred)"
   ]
  },
  {
   "cell_type": "markdown",
   "metadata": {},
   "source": [
    "### XGboost on oversampled X_train"
   ]
  },
  {
   "cell_type": "code",
   "execution_count": 177,
   "metadata": {},
   "outputs": [
    {
     "data": {
      "text/plain": [
       "[array([[32612,  1628],\n",
       "        [ 1230,  2308]]),\n",
       " 'Recall (TPR) = 65.23%',\n",
       " 'Fallout (FPR) = 4.75%',\n",
       " 'Accuracy (Acc) = 92.43%']"
      ]
     },
     "execution_count": 177,
     "metadata": {},
     "output_type": "execute_result"
    }
   ],
   "source": [
    "gbm= xgb.XGBClassifier(max_depth=10, n_estimators=300, learning_rate=0.01).fit(X_rs, y_rs)\n",
    "\n",
    "y_pred = gbm.predict(X_test.values)\n",
    "model_performance_metrics(gbm, y_test, y_pred)"
   ]
  },
  {
   "cell_type": "markdown",
   "metadata": {},
   "source": [
    "### XGboost on oversampled X_train with Threshold value set to 0.39"
   ]
  },
  {
   "cell_type": "code",
   "execution_count": 173,
   "metadata": {
    "scrolled": true
   },
   "outputs": [],
   "source": [
    "gbm= xgb.XGBClassifier(max_depth=10, n_estimators=300, learning_rate=0.01).fit(X_rs, y_rs)"
   ]
  },
  {
   "cell_type": "code",
   "execution_count": 174,
   "metadata": {},
   "outputs": [],
   "source": [
    "THRESHOLD = 0.39\n",
    "y_pred = np.where(gbm.predict_proba(X_test.values)[:,1] > THRESHOLD, 1, 0)"
   ]
  },
  {
   "cell_type": "code",
   "execution_count": 175,
   "metadata": {
    "scrolled": true
   },
   "outputs": [
    {
     "data": {
      "text/plain": [
       "[array([[29718,  4522],\n",
       "        [ 1047,  2491]]),\n",
       " 'Recall (TPR) = 70.41%',\n",
       " 'Fallout (FPR) = 13.21%',\n",
       " 'Accuracy (Acc) = 85.26%']"
      ]
     },
     "execution_count": 175,
     "metadata": {},
     "output_type": "execute_result"
    }
   ],
   "source": [
    "model_performance_metrics(gbm, y_test, y_pred)"
   ]
  },
  {
   "cell_type": "code",
   "execution_count": null,
   "metadata": {},
   "outputs": [],
   "source": []
  }
 ],
 "metadata": {
  "kernelspec": {
   "display_name": "Python 3",
   "language": "python",
   "name": "python3"
  },
  "language_info": {
   "codemirror_mode": {
    "name": "ipython",
    "version": 3
   },
   "file_extension": ".py",
   "mimetype": "text/x-python",
   "name": "python",
   "nbconvert_exporter": "python",
   "pygments_lexer": "ipython3",
   "version": "3.6.5"
  }
 },
 "nbformat": 4,
 "nbformat_minor": 2
}
